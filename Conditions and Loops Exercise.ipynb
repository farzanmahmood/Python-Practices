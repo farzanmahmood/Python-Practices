{
 "cells": [
  {
   "cell_type": "code",
   "execution_count": 4,
   "id": "dad887be",
   "metadata": {},
   "outputs": [
    {
     "data": {
      "text/plain": [
       "False"
      ]
     },
     "execution_count": 4,
     "metadata": {},
     "output_type": "execute_result"
    }
   ],
   "source": [
    "#Q1 Given two integer numbers. If any of the numbers are greater than 50 return true\n",
    "\n",
    "number1=20\n",
    "number2=40\n",
    "\n",
    "number1>50 or number2>50\n"
   ]
  },
  {
   "cell_type": "code",
   "execution_count": 5,
   "id": "8f68d919",
   "metadata": {},
   "outputs": [
    {
     "name": "stdout",
     "output_type": "stream",
     "text": [
      "Neither number is greater than 50\n"
     ]
    }
   ],
   "source": [
    "number1=20\n",
    "number2=40\n",
    "\n",
    "if (number1>50 or number2>50):\n",
    "    print(\"One or both the numbers are greater than 50\")\n",
    "else:\n",
    "    print(\"Neither number is greater than 50\")"
   ]
  },
  {
   "cell_type": "code",
   "execution_count": 6,
   "id": "c20e4ce2",
   "metadata": {},
   "outputs": [
    {
     "data": {
      "text/plain": [
       "True"
      ]
     },
     "execution_count": 6,
     "metadata": {},
     "output_type": "execute_result"
    }
   ],
   "source": [
    "#Q2 Given a list of numbers, return True if first and last number of a list is same?\n",
    "#list=[1,2,5,4,1]\n",
    "\n",
    "list1=[1,2,5,4,1]\n",
    "\n",
    "list1[0] == list1[-1]"
   ]
  },
  {
   "cell_type": "code",
   "execution_count": 29,
   "id": "23c69e8d",
   "metadata": {},
   "outputs": [
    {
     "name": "stdout",
     "output_type": "stream",
     "text": [
      "1\n",
      "3\n",
      "6\n",
      "10\n",
      "15\n",
      "21\n",
      "28\n",
      "36\n",
      "45\n",
      "55\n"
     ]
    }
   ],
   "source": [
    "#Q3 Given a range of the first 10 numbers[1:10], Iterate from the start number to\n",
    "#and In each iteration print the sum of the current number and previous number\n",
    "\n",
    "x=0\n",
    "\n",
    "for i in range(1,11):\n",
    "    sum = x + i\n",
    "    print(sum)\n",
    "    x = sum\n",
    "\n",
    "\n",
    "    "
   ]
  },
  {
   "cell_type": "code",
   "execution_count": 34,
   "id": "467e2084",
   "metadata": {},
   "outputs": [
    {
     "data": {
      "text/plain": [
       "'Pwraaa'"
      ]
     },
     "execution_count": 34,
     "metadata": {},
     "output_type": "execute_result"
    }
   ],
   "source": [
    "#Q4 Given a string name, display only those characters which are present at an even index?\n",
    "name=\"NPowerCanada\"\n",
    "name[1::2]\n",
    "\n",
    "#Leaving end index blank as that covers the whole string to the end"
   ]
  },
  {
   "cell_type": "code",
   "execution_count": 48,
   "id": "d8a7d15a",
   "metadata": {},
   "outputs": [
    {
     "name": "stdout",
     "output_type": "stream",
     "text": [
      "PythonCourse \n",
      "\n",
      "ythonCourse \n",
      "\n",
      "thonCourse \n",
      "\n",
      "honCourse \n",
      "\n",
      "onCourse \n",
      "\n",
      "nCourse \n",
      "\n",
      "Course \n",
      "\n"
     ]
    }
   ],
   "source": [
    "#Q5 Given a string oldString and an integer number n,\n",
    "#remove characters from a string starting from zero up to n and return a newStrin\n",
    "# oldString=\"PythonCourse\"\n",
    "#n=6\n",
    "\n",
    "oldString=\"PythonCourse\"\n",
    "n=6\n",
    "\n",
    "for i in range(n+1):\n",
    "    newString = oldString[i:]\n",
    "    print(newString, \"\\n\")\n",
    "    \n",
    "#Not sure if need 6 or 7 iterations here, I think 7"
   ]
  },
  {
   "cell_type": "code",
   "execution_count": 56,
   "id": "70676c4c",
   "metadata": {},
   "outputs": [
    {
     "name": "stdout",
     "output_type": "stream",
     "text": [
      "*\n",
      "**\n",
      "***\n",
      "****\n"
     ]
    }
   ],
   "source": [
    "#Q6 Print the follwoing pattern\n",
    "#*\n",
    "#**\n",
    "#***\n",
    "#****\n",
    "\n",
    "for i in range(1,5):\n",
    "    print(\"*\"*i)\n"
   ]
  },
  {
   "cell_type": "code",
   "execution_count": 68,
   "id": "b24ac336",
   "metadata": {},
   "outputs": [
    {
     "name": "stdout",
     "output_type": "stream",
     "text": [
      "*\n",
      "\n",
      "**\n",
      "\n",
      "***\n",
      "\n",
      "****\n",
      "\n"
     ]
    }
   ],
   "source": [
    "for i in range(1,5):\n",
    "    for j in range(i):\n",
    "        print(\"*\", end = \"\")\n",
    "    print('\\n')\n",
    "    \n",
    "#nested loop way of doing it"
   ]
  },
  {
   "cell_type": "code",
   "execution_count": 93,
   "id": "330367e9",
   "metadata": {},
   "outputs": [
    {
     "data": {
      "text/plain": [
       "[60, 50, 70, 90]"
      ]
     },
     "execution_count": 93,
     "metadata": {},
     "output_type": "execute_result"
    }
   ],
   "source": [
    "#Q7 Reverse the following list using for loop\n",
    "#list1=[90,70,50,60]\n",
    "\n",
    "list1 = [90,70,50,60]\n",
    "reverse_list1 = []\n",
    "\n",
    "for i in range(len(list1)):\n",
    "    reverse_list1.append(list1[-i - 1])\n",
    "reverse_list1\n",
    "    \n",
    "#-i minus 1 because negative inedx gotta start at -1 not -0."
   ]
  },
  {
   "cell_type": "code",
   "execution_count": 94,
   "id": "5207f556",
   "metadata": {},
   "outputs": [
    {
     "name": "stdout",
     "output_type": "stream",
     "text": [
      "[1]\n",
      "[4, 1]\n",
      "[7, 4, 1]\n",
      "[8, 7, 4, 1]\n",
      "[3, 8, 7, 4, 1]\n",
      "[6, 3, 8, 7, 4, 1]\n"
     ]
    }
   ],
   "source": [
    "digits = [1,4,7,8,3,6]\n",
    "result = []\n",
    "\n",
    "for i in digits:\n",
    "    result = [i] + result \n",
    "    print(result)\n",
    "# Here [i] is not index, rather it's the list element itself and it just keeps getting added to the front of the list every time so that it ends up being reverse."
   ]
  },
  {
   "cell_type": "code",
   "execution_count": 9,
   "id": "463c9d87",
   "metadata": {},
   "outputs": [
    {
     "name": "stdout",
     "output_type": "stream",
     "text": [
      "enter string: pokemon\n",
      "nomekop\n"
     ]
    }
   ],
   "source": [
    "s=input(\"enter string: \")\n",
    "print(s[::-1])\n"
   ]
  },
  {
   "cell_type": "code",
   "execution_count": 101,
   "id": "710e6cbf",
   "metadata": {},
   "outputs": [
    {
     "name": "stdout",
     "output_type": "stream",
     "text": [
      "-10\n",
      "-9\n",
      "-8\n",
      "-7\n",
      "-6\n",
      "-5\n",
      "-4\n",
      "-3\n",
      "-2\n",
      "-1\n"
     ]
    }
   ],
   "source": [
    "#Q8 Display numbers from -10 to -1 using for loop [hint use range method]\n",
    "\n",
    "for i in range(10):\n",
    "    print(i - 10)\n"
   ]
  }
 ],
 "metadata": {
  "kernelspec": {
   "display_name": "Python 3",
   "language": "python",
   "name": "python3"
  },
  "language_info": {
   "codemirror_mode": {
    "name": "ipython",
    "version": 3
   },
   "file_extension": ".py",
   "mimetype": "text/x-python",
   "name": "python",
   "nbconvert_exporter": "python",
   "pygments_lexer": "ipython3",
   "version": "3.8.8"
  }
 },
 "nbformat": 4,
 "nbformat_minor": 5
}
