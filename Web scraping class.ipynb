{
 "cells": [
  {
   "cell_type": "code",
   "execution_count": 4,
   "id": "a4c015c1",
   "metadata": {},
   "outputs": [],
   "source": [
    "from bs4 import BeautifulSoup\n",
    "import requests\n",
    "url = 'https://ravindrababuravula.com/courses.php'\n",
    "reqs = requests.get(url)\n",
    "soup = BeautifulSoup(reqs.text, 'html.parser')"
   ]
  },
  {
   "cell_type": "code",
   "execution_count": null,
   "id": "49efe33a",
   "metadata": {},
   "outputs": [],
   "source": []
  },
  {
   "cell_type": "code",
   "execution_count": 8,
   "id": "00ec6dc9",
   "metadata": {},
   "outputs": [
    {
     "data": {
      "text/plain": [
       "[<div class=\"edugate-content\"><a class=\"title\" href=\"gate.php\">GATE</a>\n",
       " <div class=\"description\">Every subject is taught from scratch and contains concepts, solved examples, important previous year GATE questions, practice questions and the test series</div>\n",
       " <button class=\"btn btn-green hidden-sm hidden-xs\"><a href=\"gate.php\"><span>learn now</span></a></button>\n",
       " </div>,\n",
       " <div class=\"edugate-content\"><a class=\"title\" href=\"interviewpreperation.php\">Job Interview Preparation </a>\n",
       " <div class=\"description\">It is a mix of theory and practice. we will explain all the possible ways to solve a problem and analyse each solution using Time &amp; Space Complexity.</div>\n",
       " <button class=\"btn btn-green hidden-sm hidden-xs\"><span><a href=\"interviewpreperation.php\" style=\"color: white;\">learn now</a></span></button>\n",
       " </div>,\n",
       " <div class=\"edugate-content\"><a class=\"title\" href=\"technologies.php\">Technologies</a>\n",
       " <div class=\"description\">We chose the Trending Technologies which are high in demand in the job market. Hybrid teaching style with the help of conventional white board and the digital screen for easy understanding.</div>\n",
       " <button class=\"btn btn-green hidden-sm hidden-xs\"><span><a href=\"technologies.php\" style=\"color: white;\">learn now</a></span></button>\n",
       " </div>]"
      ]
     },
     "execution_count": 8,
     "metadata": {},
     "output_type": "execute_result"
    }
   ],
   "source": [
    "soup.find_all(\"div\", class_=\"edugate-content\")\n"
   ]
  },
  {
   "cell_type": "code",
   "execution_count": 9,
   "id": "c8f3954f",
   "metadata": {},
   "outputs": [
    {
     "data": {
      "text/plain": [
       "'GATE'"
      ]
     },
     "execution_count": 9,
     "metadata": {},
     "output_type": "execute_result"
    }
   ],
   "source": [
    "soup.find(\"div\",class_=\"edugate-content\").a.text\n"
   ]
  },
  {
   "cell_type": "code",
   "execution_count": 13,
   "id": "8fff68cd",
   "metadata": {},
   "outputs": [
    {
     "name": "stdout",
     "output_type": "stream",
     "text": [
      "GATE\n",
      "Job Interview Preparation \n",
      "Technologies\n"
     ]
    },
    {
     "data": {
      "text/plain": [
       "'Job Interview Preparation '"
      ]
     },
     "execution_count": 13,
     "metadata": {},
     "output_type": "execute_result"
    }
   ],
   "source": [
    "c = []\n",
    "for i in soup.find_all(\"div\", class_=\"edugate-content\"):\n",
    "    print(i.a.text)\n",
    "    c.append(i.a.text)\n",
    "    \n",
    "c\n",
    "c[1]\n"
   ]
  },
  {
   "cell_type": "code",
   "execution_count": 12,
   "id": "b34c2ed5",
   "metadata": {},
   "outputs": [
    {
     "data": {
      "text/plain": [
       "<div class=\"description\">Every subject is taught from scratch and contains concepts, solved examples, important previous year GATE questions, practice questions and the test series</div>"
      ]
     },
     "execution_count": 12,
     "metadata": {},
     "output_type": "execute_result"
    }
   ],
   "source": [
    "soup.find(\"div\", class_=\"description\")\n"
   ]
  },
  {
   "cell_type": "code",
   "execution_count": 15,
   "id": "10bb47ae",
   "metadata": {},
   "outputs": [
    {
     "name": "stdout",
     "output_type": "stream",
     "text": [
      "Every subject is taught from scratch and contains concepts, solved examples, important previous year GATE questions, practice questions and the test series \n",
      "\n",
      "It is a mix of theory and practice. we will explain all the possible ways to solve a problem and analyse each solution using Time & Space Complexity. \n",
      "\n",
      "We chose the Trending Technologies which are high in demand in the job market. Hybrid teaching style with the help of conventional white board and the digital screen for easy understanding. \n",
      "\n"
     ]
    },
    {
     "data": {
      "text/plain": [
       "'It is a mix of theory and practice. we will explain all the possible ways to solve a problem and analyse each solution using Time & Space Complexity.'"
      ]
     },
     "execution_count": 15,
     "metadata": {},
     "output_type": "execute_result"
    }
   ],
   "source": [
    "d=[]\n",
    "for i in soup.find_all(\"div\", class_=\"description\"):\n",
    "    print(i.text,\"\\n\")\n",
    "    d.append(i.text)\n",
    "    \n",
    "d\n",
    "d[1]"
   ]
  },
  {
   "cell_type": "code",
   "execution_count": 18,
   "id": "e4cbd6d4",
   "metadata": {},
   "outputs": [
    {
     "data": {
      "text/html": [
       "<div>\n",
       "<style scoped>\n",
       "    .dataframe tbody tr th:only-of-type {\n",
       "        vertical-align: middle;\n",
       "    }\n",
       "\n",
       "    .dataframe tbody tr th {\n",
       "        vertical-align: top;\n",
       "    }\n",
       "\n",
       "    .dataframe thead th {\n",
       "        text-align: right;\n",
       "    }\n",
       "</style>\n",
       "<table border=\"1\" class=\"dataframe\">\n",
       "  <thead>\n",
       "    <tr style=\"text-align: right;\">\n",
       "      <th></th>\n",
       "      <th>0</th>\n",
       "      <th>1</th>\n",
       "    </tr>\n",
       "  </thead>\n",
       "  <tbody>\n",
       "    <tr>\n",
       "      <th>0</th>\n",
       "      <td>GATE</td>\n",
       "      <td>Every subject is taught from scratch and conta...</td>\n",
       "    </tr>\n",
       "    <tr>\n",
       "      <th>1</th>\n",
       "      <td>Job Interview Preparation</td>\n",
       "      <td>It is a mix of theory and practice. we will ex...</td>\n",
       "    </tr>\n",
       "    <tr>\n",
       "      <th>2</th>\n",
       "      <td>Technologies</td>\n",
       "      <td>We chose the Trending Technologies which are h...</td>\n",
       "    </tr>\n",
       "  </tbody>\n",
       "</table>\n",
       "</div>"
      ],
      "text/plain": [
       "                            0  \\\n",
       "0                        GATE   \n",
       "1  Job Interview Preparation    \n",
       "2                Technologies   \n",
       "\n",
       "                                                   1  \n",
       "0  Every subject is taught from scratch and conta...  \n",
       "1  It is a mix of theory and practice. we will ex...  \n",
       "2  We chose the Trending Technologies which are h...  "
      ]
     },
     "execution_count": 18,
     "metadata": {},
     "output_type": "execute_result"
    }
   ],
   "source": [
    "import pandas as pd\n",
    "\n",
    "df1 = pd.DataFrame(list(zip(c,d)))\n",
    "df1"
   ]
  },
  {
   "cell_type": "code",
   "execution_count": null,
   "id": "e89e2199",
   "metadata": {},
   "outputs": [],
   "source": []
  }
 ],
 "metadata": {
  "kernelspec": {
   "display_name": "Python 3",
   "language": "python",
   "name": "python3"
  },
  "language_info": {
   "codemirror_mode": {
    "name": "ipython",
    "version": 3
   },
   "file_extension": ".py",
   "mimetype": "text/x-python",
   "name": "python",
   "nbconvert_exporter": "python",
   "pygments_lexer": "ipython3",
   "version": "3.8.8"
  }
 },
 "nbformat": 4,
 "nbformat_minor": 5
}
