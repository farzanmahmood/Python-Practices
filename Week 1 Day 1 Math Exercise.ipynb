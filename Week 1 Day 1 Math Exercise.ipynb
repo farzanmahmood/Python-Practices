{
 "cells": [
  {
   "cell_type": "code",
   "execution_count": 1,
   "id": "92129f43",
   "metadata": {},
   "outputs": [
    {
     "data": {
      "text/plain": [
       "49"
      ]
     },
     "execution_count": 1,
     "metadata": {},
     "output_type": "execute_result"
    }
   ],
   "source": [
    "#Write a Python program to solve (x + y) * (x + y)\n",
    "#Test Data : x = 4, y = 3\n",
    "\n",
    "def solve(x, y):\n",
    "    return (x+y)*(x+y)\n",
    "\n",
    "solve(4, 3)"
   ]
  },
  {
   "cell_type": "code",
   "execution_count": 2,
   "id": "ef9a3dab",
   "metadata": {},
   "outputs": [
    {
     "data": {
      "text/plain": [
       "3.3"
      ]
     },
     "execution_count": 2,
     "metadata": {},
     "output_type": "execute_result"
    }
   ],
   "source": [
    "def convert(x):\n",
    "    return float(x)\n",
    "\n",
    "convert(\"3.3\")"
   ]
  },
  {
   "cell_type": "code",
   "execution_count": 3,
   "id": "99783b6c",
   "metadata": {},
   "outputs": [
    {
     "data": {
      "text/plain": [
       "55.0"
      ]
     },
     "execution_count": 3,
     "metadata": {},
     "output_type": "execute_result"
    }
   ],
   "source": [
    "#this is just the expression used for this math problem, so that's the trick to it\n",
    "def add_int(n):\n",
    "    return n*(n+1)/2\n",
    "\n",
    "add_int(10)\n"
   ]
  },
  {
   "cell_type": "code",
   "execution_count": 4,
   "id": "e7353861",
   "metadata": {},
   "outputs": [
    {
     "name": "stdout",
     "output_type": "stream",
     "text": [
      "120 3.3333333333333335 0.001893939393939394\n"
     ]
    }
   ],
   "source": [
    "distance_in_ft = 10\n",
    "inches = distance_in_ft*12\n",
    "yards = distance_in_ft/3\n",
    "miles = distance_in_ft/5280\n",
    "\n",
    "print(inches, yards, miles)"
   ]
  },
  {
   "cell_type": "code",
   "execution_count": 13,
   "id": "b2185a8d",
   "metadata": {},
   "outputs": [
    {
     "name": "stdout",
     "output_type": "stream",
     "text": [
      "30 + 20 = 50\n"
     ]
    }
   ],
   "source": [
    "x = int(input(\"Enter a number: \"))\n",
    "y = 20\n",
    "z = x+y\n",
    "print (x, \"+\", y, \"=\", z)"
   ]
  },
  {
   "cell_type": "code",
   "execution_count": 16,
   "id": "9a93f43b",
   "metadata": {},
   "outputs": [
    {
     "name": "stdout",
     "output_type": "stream",
     "text": [
      "Enter a number: 5\n"
     ]
    }
   ],
   "source": [
    "value = int(input(\"Enter a number: \"))\n",
    "if (value == 1):\n",
    "    print(\"First day of a Month\")\n",
    "\n",
    "    "
   ]
  },
  {
   "cell_type": "code",
   "execution_count": 17,
   "id": "ddf15e81",
   "metadata": {},
   "outputs": [
    {
     "name": "stdout",
     "output_type": "stream",
     "text": [
      "3 is an integer\n",
      "word is a string\n"
     ]
    }
   ],
   "source": [
    "x = 3\n",
    "y = \"word\"\n",
    "\n",
    "if type(x) == str:\n",
    "    print(x, \"is a string\")\n",
    "elif type(x) == int:\n",
    "    print(x, \"is an integer\")\n",
    "\n",
    "if type(y) == str:\n",
    "    print(y, \"is a string\")\n",
    "elif type(y) == int:\n",
    "    print(y, \"is an integer\")"
   ]
  },
  {
   "cell_type": "code",
   "execution_count": 8,
   "id": "0273da90",
   "metadata": {},
   "outputs": [
    {
     "name": "stdout",
     "output_type": "stream",
     "text": [
      "Enter a positive integer = 4\n"
     ]
    }
   ],
   "source": [
    "b = int(input(\"Enter a positive integer = \"))"
   ]
  },
  {
   "cell_type": "code",
   "execution_count": 9,
   "id": "2f7f4dd6",
   "metadata": {},
   "outputs": [
    {
     "name": "stdout",
     "output_type": "stream",
     "text": [
      "Enter a positive integer = 4\n",
      "4\n"
     ]
    }
   ],
   "source": [
    "b = int(input(\"Enter a positive integer = \"))\n",
    "print(b)"
   ]
  },
  {
   "cell_type": "code",
   "execution_count": 12,
   "id": "cde5c217",
   "metadata": {},
   "outputs": [
    {
     "name": "stdout",
     "output_type": "stream",
     "text": [
      "Enter a positive integer: 10\n"
     ]
    },
    {
     "data": {
      "text/plain": [
       "55.0"
      ]
     },
     "execution_count": 12,
     "metadata": {},
     "output_type": "execute_result"
    }
   ],
   "source": [
    "h = int(input(\"Enter a positive integer: \"))\n",
    "h*(h+1)/2"
   ]
  },
  {
   "cell_type": "code",
   "execution_count": 18,
   "id": "bb86b9b6",
   "metadata": {},
   "outputs": [
    {
     "name": "stdout",
     "output_type": "stream",
     "text": [
      "2\n",
      "675\n"
     ]
    }
   ],
   "source": [
    "L = [2,4,5,6,7,76,5,675,52,54]\n",
    "print(min(L))\n",
    "print(max(L))"
   ]
  },
  {
   "cell_type": "code",
   "execution_count": 19,
   "id": "92b16d70",
   "metadata": {},
   "outputs": [
    {
     "name": "stdout",
     "output_type": "stream",
     "text": [
      "Enter something here: 4\n",
      "int or str\n"
     ]
    }
   ],
   "source": [
    "vals = input(\"Enter something here: \")\n",
    "if (type(vals) == int or type(vals) == str):\n",
    "    print(\"int or str\");\n",
    "#not what the question is asking"
   ]
  },
  {
   "cell_type": "code",
   "execution_count": null,
   "id": "0eacecd5",
   "metadata": {},
   "outputs": [],
   "source": []
  }
 ],
 "metadata": {
  "kernelspec": {
   "display_name": "Python 3",
   "language": "python",
   "name": "python3"
  },
  "language_info": {
   "codemirror_mode": {
    "name": "ipython",
    "version": 3
   },
   "file_extension": ".py",
   "mimetype": "text/x-python",
   "name": "python",
   "nbconvert_exporter": "python",
   "pygments_lexer": "ipython3",
   "version": "3.8.8"
  }
 },
 "nbformat": 4,
 "nbformat_minor": 5
}
