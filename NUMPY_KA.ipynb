{
 "cells": [
  {
   "cell_type": "markdown",
   "id": "2a4550df",
   "metadata": {},
   "source": [
    "# NUMPY"
   ]
  },
  {
   "cell_type": "markdown",
   "id": "40b13f19",
   "metadata": {},
   "source": [
    "![](numpy1.png)"
   ]
  },
  {
   "cell_type": "markdown",
   "id": "f324dc9b",
   "metadata": {},
   "source": [
    "### Numpy is the core library for scientific computing in Python. It provides a high-performance multidimensional array object, and tools for working with these arrays."
   ]
  },
  {
   "cell_type": "markdown",
   "id": "0f3a1036",
   "metadata": {},
   "source": [
    "#### A numpy array is a grid of values, all of the same type, and is indexed by a tuple of nonnegative integers. \n",
    "#### The number of dimensions is the rank of the array; \n",
    "#### The shape of an array is a tuple of integers giving the size of the array along each dimension."
   ]
  },
  {
   "cell_type": "markdown",
   "id": "08ff5c5a",
   "metadata": {},
   "source": [
    "![](numpy.png)"
   ]
  },
  {
   "cell_type": "code",
   "execution_count": 1,
   "id": "45a82e53",
   "metadata": {},
   "outputs": [],
   "source": [
    "import numpy as np"
   ]
  },
  {
   "cell_type": "markdown",
   "id": "eeb608fd",
   "metadata": {},
   "source": [
    "##### Create a rank 1 array"
   ]
  },
  {
   "cell_type": "code",
   "execution_count": 2,
   "id": "990d2ade",
   "metadata": {},
   "outputs": [
    {
     "data": {
      "text/plain": [
       "array([1, 2, 3])"
      ]
     },
     "execution_count": 2,
     "metadata": {},
     "output_type": "execute_result"
    }
   ],
   "source": [
    "a = np.array([1, 2, 3])   \n",
    "a          "
   ]
  },
  {
   "cell_type": "markdown",
   "id": "d970bdb2",
   "metadata": {},
   "source": [
    "##### Type & Shape"
   ]
  },
  {
   "cell_type": "code",
   "execution_count": 3,
   "id": "b0378415",
   "metadata": {},
   "outputs": [
    {
     "name": "stdout",
     "output_type": "stream",
     "text": [
      "<class 'numpy.ndarray'>\n",
      "(3,)\n"
     ]
    }
   ],
   "source": [
    "print(type(a)) \n",
    "print(a.shape)            "
   ]
  },
  {
   "cell_type": "code",
   "execution_count": 4,
   "id": "5af16e4b",
   "metadata": {},
   "outputs": [
    {
     "name": "stdout",
     "output_type": "stream",
     "text": [
      "1 2 3\n"
     ]
    }
   ],
   "source": [
    "print(a[0], a[1], a[2])   "
   ]
  },
  {
   "cell_type": "markdown",
   "id": "ad247ce9",
   "metadata": {},
   "source": [
    "##### Changing array element"
   ]
  },
  {
   "cell_type": "code",
   "execution_count": 5,
   "id": "71f7352b",
   "metadata": {},
   "outputs": [
    {
     "name": "stdout",
     "output_type": "stream",
     "text": [
      "[5 2 3]\n"
     ]
    }
   ],
   "source": [
    "a[0] = 5                  \n",
    "print(a)                  "
   ]
  },
  {
   "cell_type": "markdown",
   "id": "b469c790",
   "metadata": {},
   "source": [
    "##### Create a rank 2 array"
   ]
  },
  {
   "cell_type": "code",
   "execution_count": 6,
   "id": "4fd80492",
   "metadata": {},
   "outputs": [
    {
     "name": "stdout",
     "output_type": "stream",
     "text": [
      "(2, 3)\n",
      "1 2 4\n"
     ]
    }
   ],
   "source": [
    "b = np.array([[1,2,3],[4,5,6]])    \n",
    "print(b.shape)                     \n",
    "print(b[0, 0], b[0, 1], b[1, 0])   "
   ]
  },
  {
   "cell_type": "markdown",
   "id": "6c0757c0",
   "metadata": {},
   "source": [
    "##### Create an array of all zeros"
   ]
  },
  {
   "cell_type": "code",
   "execution_count": 30,
   "id": "404fd296",
   "metadata": {},
   "outputs": [
    {
     "name": "stdout",
     "output_type": "stream",
     "text": [
      "[[0. 0.]\n",
      " [0. 0.]]\n",
      "float64\n"
     ]
    }
   ],
   "source": [
    "a = np.zeros((2,2))   \n",
    "print(a)       \n",
    "print(a.dtype)         "
   ]
  },
  {
   "cell_type": "markdown",
   "id": "5337e9a3",
   "metadata": {},
   "source": [
    "##### Create an array of all ones"
   ]
  },
  {
   "cell_type": "code",
   "execution_count": 8,
   "id": "3a8e09c6",
   "metadata": {},
   "outputs": [
    {
     "name": "stdout",
     "output_type": "stream",
     "text": [
      "[[1. 1.]]\n"
     ]
    }
   ],
   "source": [
    "b = np.ones((1,2))    \n",
    "print(b)              "
   ]
  },
  {
   "cell_type": "markdown",
   "id": "592eeabb",
   "metadata": {},
   "source": [
    "##### Create a constant array"
   ]
  },
  {
   "cell_type": "code",
   "execution_count": 9,
   "id": "fde3e1f4",
   "metadata": {},
   "outputs": [
    {
     "name": "stdout",
     "output_type": "stream",
     "text": [
      "[[7 7]\n",
      " [7 7]]\n",
      "int32\n"
     ]
    }
   ],
   "source": [
    "c = np.full((2,2), 7)   \n",
    "print(c)\n",
    "print(c.dtype)         "
   ]
  },
  {
   "cell_type": "markdown",
   "id": "fd8b944b",
   "metadata": {},
   "source": [
    "##### Create a 2x2 identity matrix"
   ]
  },
  {
   "cell_type": "code",
   "execution_count": 10,
   "id": "9e051170",
   "metadata": {},
   "outputs": [
    {
     "name": "stdout",
     "output_type": "stream",
     "text": [
      "[[1. 0.]\n",
      " [0. 1.]]\n"
     ]
    }
   ],
   "source": [
    "d = np.eye(2)          \n",
    "print(d)              "
   ]
  },
  {
   "cell_type": "markdown",
   "id": "473b0cdb",
   "metadata": {},
   "source": [
    "##### Create an array filled with random values"
   ]
  },
  {
   "cell_type": "code",
   "execution_count": 11,
   "id": "277890b6",
   "metadata": {},
   "outputs": [
    {
     "name": "stdout",
     "output_type": "stream",
     "text": [
      "[[0.6862616  0.39167602]\n",
      " [0.33658566 0.99594427]]\n"
     ]
    }
   ],
   "source": [
    "e = np.random.random((2,2))   \n",
    "print(e)                     "
   ]
  },
  {
   "cell_type": "markdown",
   "id": "1daa49ce",
   "metadata": {},
   "source": [
    "### Array indexing"
   ]
  },
  {
   "cell_type": "markdown",
   "id": "e615ef33",
   "metadata": {},
   "source": [
    "#### Numpy offers several ways to index into arrays.\n",
    "\n",
    "#### Slicing: Similar to Python lists, numpy arrays can be sliced. Since arrays may be multidimensional, you must specify a slice for each dimension of the array:"
   ]
  },
  {
   "cell_type": "markdown",
   "id": "1f2b7627",
   "metadata": {},
   "source": [
    "##### Create the following rank 2 array with shape (3, 4)"
   ]
  },
  {
   "cell_type": "code",
   "execution_count": 32,
   "id": "52259ae2",
   "metadata": {},
   "outputs": [
    {
     "data": {
      "text/plain": [
       "array([[ 1,  2,  3,  4],\n",
       "       [ 5,  6,  7,  8],\n",
       "       [ 9, 10, 11, 12]])"
      ]
     },
     "execution_count": 32,
     "metadata": {},
     "output_type": "execute_result"
    }
   ],
   "source": [
    "a = np.array([[1,2,3,4], [5,6,7,8], [9,10,11,12]])\n",
    "a"
   ]
  },
  {
   "cell_type": "code",
   "execution_count": 33,
   "id": "f253044c",
   "metadata": {},
   "outputs": [
    {
     "name": "stdout",
     "output_type": "stream",
     "text": [
      "[[2 3]\n",
      " [6 7]]\n"
     ]
    }
   ],
   "source": [
    "# Use slicing to pull out the subarray consisting of the first 2 rows\n",
    "# and columns 1 and 2; b is the following array of shape (2, 2):\n",
    "b = a[:2, 1:3]\n",
    "print(b)\n"
   ]
  },
  {
   "cell_type": "code",
   "execution_count": 34,
   "id": "7caf898d",
   "metadata": {},
   "outputs": [
    {
     "name": "stdout",
     "output_type": "stream",
     "text": [
      "1\n",
      "77\n"
     ]
    }
   ],
   "source": [
    "# A slice of an array is a view into the same data, so modifying it\n",
    "# will modify the original array.\n",
    "b = a[:2, 1:3]\n",
    "print(a[0, 0])   \n",
    "b[0, 0] = 77     \n",
    "print(a[0, 1])   "
   ]
  },
  {
   "cell_type": "code",
   "execution_count": 15,
   "id": "f41efc3a",
   "metadata": {},
   "outputs": [],
   "source": [
    "# Create the following rank 2 array with shape (3, 4)\n",
    "\n",
    "a = np.array([[1,2,3,4], [5,6,7,8], [9,10,11,12]])"
   ]
  },
  {
   "cell_type": "code",
   "execution_count": 16,
   "id": "d829ab53",
   "metadata": {},
   "outputs": [
    {
     "name": "stdout",
     "output_type": "stream",
     "text": [
      "[5 6 7 8] (4,)\n",
      "[[5 6 7 8]] (1, 4)\n"
     ]
    }
   ],
   "source": [
    "# Two ways of accessing the data in the middle row of the array.\n",
    "# Mixing integer indexing with slices yields an array of lower rank,\n",
    "# while using only slices yields an array of the same rank as the\n",
    "# original array:\n",
    "row_r1 = a[1, :]    # Rank 1 view of the second row of a\n",
    "row_r2 = a[1:2, :]  # Rank 2 view of the second row of a\n",
    "print(row_r1, row_r1.shape)  \n",
    "print(row_r2, row_r2.shape)  "
   ]
  },
  {
   "cell_type": "code",
   "execution_count": 17,
   "id": "276e4ece",
   "metadata": {},
   "outputs": [
    {
     "name": "stdout",
     "output_type": "stream",
     "text": [
      "[ 2  6 10] (3,)\n",
      "[[ 2]\n",
      " [ 6]\n",
      " [10]] (3, 1)\n"
     ]
    }
   ],
   "source": [
    "# We can make the same distinction when accessing columns of an array:\n",
    "col_r1 = a[:, 1]\n",
    "col_r2 = a[:, 1:2]\n",
    "print(col_r1, col_r1.shape)  \n",
    "print(col_r2, col_r2.shape)  "
   ]
  },
  {
   "cell_type": "markdown",
   "id": "921a4166",
   "metadata": {},
   "source": [
    "### Datatypes"
   ]
  },
  {
   "cell_type": "markdown",
   "id": "1f9e5747",
   "metadata": {},
   "source": [
    "#### Every numpy array is a grid of elements of the same type. \n",
    "#### Numpy provides a large set of numeric datatypes that you can use to construct arrays. \n",
    "#### Numpy tries to guess a datatype when you create an array, but functions that construct arrays usually also include an optional argument to explicitly specify the datatype."
   ]
  },
  {
   "cell_type": "code",
   "execution_count": 18,
   "id": "160e0ba9",
   "metadata": {},
   "outputs": [
    {
     "name": "stdout",
     "output_type": "stream",
     "text": [
      "int32\n",
      "float64\n",
      "int64\n"
     ]
    }
   ],
   "source": [
    "x = np.array([1, 2])   \n",
    "print(x.dtype)         \n",
    "\n",
    "x = np.array([1.0, 2.0])   \n",
    "print(x.dtype)             \n",
    "\n",
    "x = np.array([1, 2], dtype=np.int64)   \n",
    "print(x.dtype)                         "
   ]
  },
  {
   "cell_type": "markdown",
   "id": "9584c813",
   "metadata": {},
   "source": [
    "### Array math"
   ]
  },
  {
   "cell_type": "code",
   "execution_count": 19,
   "id": "2a0f0794",
   "metadata": {},
   "outputs": [
    {
     "name": "stdout",
     "output_type": "stream",
     "text": [
      "[[ 6.  8.]\n",
      " [10. 12.]]\n",
      "[[ 6.  8.]\n",
      " [10. 12.]]\n"
     ]
    }
   ],
   "source": [
    "x = np.array([[1,2],[3,4]], dtype=np.float64)\n",
    "y = np.array([[5,6],[7,8]], dtype=np.float64)\n",
    "\n",
    "# Elementwise sum; both produce the array\n",
    "\n",
    "print(x + y)\n",
    "\n",
    "print(np.add(x, y))"
   ]
  },
  {
   "cell_type": "code",
   "execution_count": 20,
   "id": "f4c9539a",
   "metadata": {},
   "outputs": [
    {
     "name": "stdout",
     "output_type": "stream",
     "text": [
      "[[-4. -4.]\n",
      " [-4. -4.]]\n",
      "[[-4. -4.]\n",
      " [-4. -4.]]\n"
     ]
    }
   ],
   "source": [
    "# Elementwise difference; both produce the array\n",
    "\n",
    "print(x - y)\n",
    "print(np.subtract(x, y))"
   ]
  },
  {
   "cell_type": "markdown",
   "id": "d5e3cb42",
   "metadata": {},
   "source": [
    "![](numpy-matrix-product.png)"
   ]
  },
  {
   "cell_type": "code",
   "execution_count": 21,
   "id": "e79ff51c",
   "metadata": {},
   "outputs": [
    {
     "name": "stdout",
     "output_type": "stream",
     "text": [
      "[[ 5. 12.]\n",
      " [21. 32.]]\n",
      "[[ 5. 12.]\n",
      " [21. 32.]]\n"
     ]
    }
   ],
   "source": [
    "# Elementwise product; both produce the array\n",
    "\n",
    "\n",
    "print(x * y)\n",
    "print(np.multiply(x, y))"
   ]
  },
  {
   "cell_type": "code",
   "execution_count": 22,
   "id": "055f73a5",
   "metadata": {},
   "outputs": [
    {
     "name": "stdout",
     "output_type": "stream",
     "text": [
      "[[0.2        0.33333333]\n",
      " [0.42857143 0.5       ]]\n",
      "[[0.2        0.33333333]\n",
      " [0.42857143 0.5       ]]\n"
     ]
    }
   ],
   "source": [
    "# Elementwise division; both produce the array\n",
    "\n",
    "print(x / y)\n",
    "print(np.divide(x, y))"
   ]
  },
  {
   "cell_type": "code",
   "execution_count": 23,
   "id": "97a66dac",
   "metadata": {},
   "outputs": [
    {
     "name": "stdout",
     "output_type": "stream",
     "text": [
      "[[1.         1.41421356]\n",
      " [1.73205081 2.        ]]\n"
     ]
    }
   ],
   "source": [
    "# Elementwise square root; produces the array\n",
    "\n",
    "print(np.sqrt(x))"
   ]
  },
  {
   "cell_type": "markdown",
   "id": "4250952b",
   "metadata": {},
   "source": [
    "##### Assigning x,y,v&w"
   ]
  },
  {
   "cell_type": "code",
   "execution_count": 24,
   "id": "7bd915e8",
   "metadata": {},
   "outputs": [],
   "source": [
    "x = np.array([[1,2],[3,4]])\n",
    "y = np.array([[5,6],[7,8]])\n",
    "\n",
    "v = np.array([9,10])\n",
    "w = np.array([11, 12])"
   ]
  },
  {
   "cell_type": "code",
   "execution_count": 25,
   "id": "1c5fb0f0",
   "metadata": {},
   "outputs": [
    {
     "name": "stdout",
     "output_type": "stream",
     "text": [
      "219\n",
      "219\n"
     ]
    }
   ],
   "source": [
    "# Inner product of vectors\n",
    "print(v.dot(w))\n",
    "print(np.dot(v, w))"
   ]
  },
  {
   "cell_type": "code",
   "execution_count": 26,
   "id": "200c44fb",
   "metadata": {},
   "outputs": [
    {
     "name": "stdout",
     "output_type": "stream",
     "text": [
      "[29 67]\n",
      "[29 67]\n"
     ]
    }
   ],
   "source": [
    "# Matrix / vector product; both produce the rank 1 array [29 67]\n",
    "print(x.dot(v))\n",
    "print(np.dot(x, v))"
   ]
  },
  {
   "cell_type": "code",
   "execution_count": 27,
   "id": "426f4b3f",
   "metadata": {},
   "outputs": [
    {
     "name": "stdout",
     "output_type": "stream",
     "text": [
      "[[19 22]\n",
      " [43 50]]\n",
      "[[19 22]\n",
      " [43 50]]\n"
     ]
    }
   ],
   "source": [
    "# Matrix / matrix product; both produce the rank 2 array\n",
    "\n",
    "print(x.dot(y))\n",
    "print(np.dot(x, y))"
   ]
  },
  {
   "cell_type": "markdown",
   "id": "e2cb7d76",
   "metadata": {},
   "source": [
    "### SUM FUNCTION"
   ]
  },
  {
   "cell_type": "code",
   "execution_count": 28,
   "id": "ecbabd9e",
   "metadata": {},
   "outputs": [
    {
     "name": "stdout",
     "output_type": "stream",
     "text": [
      "10\n",
      "[4 6]\n",
      "[3 7]\n"
     ]
    }
   ],
   "source": [
    "x = np.array([[1,2],[3,4]])\n",
    "\n",
    "print(np.sum(x))  # Compute sum of all elements; \n",
    "print(np.sum(x, axis=0))  # Compute sum of each column; \n",
    "print(np.sum(x, axis=1))  # Compute sum of each row; "
   ]
  },
  {
   "cell_type": "markdown",
   "id": "38716b7d",
   "metadata": {},
   "source": [
    "## Arithmetic Operations:"
   ]
  },
  {
   "cell_type": "markdown",
   "id": "632a5118",
   "metadata": {},
   "source": [
    "#### Addition: np.add(a,b)\n",
    "#### Subtraction:np.subtract(a,b)\n",
    "#### Multiplication: np.multiply(a,b)\n",
    "#### Division: np.divide(a,b)\n",
    "#### Exponentiation: np.exp(a)\n",
    "#### Square Root: np.sqrt(b)\n"
   ]
  },
  {
   "cell_type": "markdown",
   "id": "fc0be485",
   "metadata": {},
   "source": [
    "### Comparison\n",
    "#### Element-wise: a==b\n",
    "#### Array-wise: np.array_equal(a,b)"
   ]
  },
  {
   "cell_type": "markdown",
   "id": "ffb6f001",
   "metadata": {},
   "source": [
    "### Copying:\n",
    "#### np.copy(array) – Copies array to new memory array.\n",
    "#### view(dtype) – Creates view of array elements with typedtype"
   ]
  },
  {
   "cell_type": "markdown",
   "id": "9c03932d",
   "metadata": {},
   "source": [
    "### Sorting:\n",
    "#### array.sort() – Sorts array\n",
    "#### array.sort(axis=0) – Sorts specific axis of array\n",
    "#### array.reshape(2,3) – Reshapes array to 2 rows, 3 columns without changing data."
   ]
  },
  {
   "cell_type": "markdown",
   "id": "159f2973",
   "metadata": {},
   "source": [
    "### Adding:\n",
    "#### np.append(array,values) – Appends values to end of array\n",
    "#### np.insert(array,4,values) – Inserts values into array before index 4"
   ]
  },
  {
   "cell_type": "markdown",
   "id": "49709b07",
   "metadata": {},
   "source": [
    "### Removing:\n",
    "#### np.delete(array,2,axis=0) – Deletes row on index 2 of array\n",
    "#### np.delete(array,3,axis=1) – Deletes column on index 3 of array"
   ]
  },
  {
   "cell_type": "markdown",
   "id": "f923d9fa",
   "metadata": {},
   "source": [
    "### Combining:\n",
    "#### np.concatenate((array1,array2),axis=0) – Adds array2 as rows to the end of array1\n",
    "#### np.concatenate((array1,array2),axis=1) – Adds array2 as columns to end of array1"
   ]
  },
  {
   "cell_type": "markdown",
   "id": "fe6997a0",
   "metadata": {},
   "source": [
    "### Splitting:\n",
    "#### np.split(array,3) – Splits array into 3sub-arrays"
   ]
  },
  {
   "cell_type": "markdown",
   "id": "3940c57f",
   "metadata": {},
   "source": [
    "### Indexing:\n",
    "#### a[0]=5 – Assigns array element on index 0 the value 5\n",
    "#### a[2,3]=1 – Assigns array element on index [2][3] the value 1"
   ]
  },
  {
   "cell_type": "markdown",
   "id": "babca13f",
   "metadata": {},
   "source": [
    "### Subsetting:\n",
    "#### a[2]: Returns the element of index 2 in array a.\n",
    "#### a[3,5] – Returns the 2D array element on index [3][5]"
   ]
  },
  {
   "cell_type": "markdown",
   "id": "ec6eb6ff",
   "metadata": {},
   "source": [
    "### Slicing:\n",
    "#### a[0:4] – Returns the elements at indices 0,1,2,3\n",
    "#### a[0:4,3] – Returns the elements on rows 0,1,2,3 at column 3\n",
    "#### a[:2] – Returns the elements at indices 0,1\n",
    "#### a[:,1] – Returns the elements at index 1 on all rows"
   ]
  },
  {
   "cell_type": "code",
   "execution_count": 29,
   "id": "8bfa82ca",
   "metadata": {},
   "outputs": [],
   "source": [
    "#https://github.com/rougier/numpy-100/blob/master/100_Numpy_exercises_with_solutions.md"
   ]
  },
  {
   "cell_type": "code",
   "execution_count": null,
   "id": "45447e18",
   "metadata": {},
   "outputs": [],
   "source": []
  },
  {
   "cell_type": "code",
   "execution_count": null,
   "id": "048aaf36",
   "metadata": {},
   "outputs": [],
   "source": []
  },
  {
   "cell_type": "code",
   "execution_count": null,
   "id": "678ec352",
   "metadata": {},
   "outputs": [],
   "source": []
  }
 ],
 "metadata": {
  "kernelspec": {
   "display_name": "Python 3",
   "language": "python",
   "name": "python3"
  },
  "language_info": {
   "codemirror_mode": {
    "name": "ipython",
    "version": 3
   },
   "file_extension": ".py",
   "mimetype": "text/x-python",
   "name": "python",
   "nbconvert_exporter": "python",
   "pygments_lexer": "ipython3",
   "version": "3.8.8"
  }
 },
 "nbformat": 4,
 "nbformat_minor": 5
}
