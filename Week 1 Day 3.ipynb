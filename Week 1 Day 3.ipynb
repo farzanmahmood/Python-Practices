{
 "cells": [
  {
   "cell_type": "code",
   "execution_count": 17,
   "id": "8760e22f",
   "metadata": {},
   "outputs": [
    {
     "name": "stdout",
     "output_type": "stream",
     "text": [
      "number doesn't fit\n"
     ]
    }
   ],
   "source": [
    "#Write a Python program to find those numbers which are divisible by 7 and multiple of 5,\n",
    "#between 1500 and 2700 (both included).\n",
    "\n",
    "n = 1100\n",
    "\n",
    "if (n%7 == 0 and n%5 == 0 and n in range(1500,2701)):\n",
    "    print(\"this numbers fits\")\n",
    "else:\n",
    "    print(\"number doesn't fit\")"
   ]
  },
  {
   "cell_type": "code",
   "execution_count": 18,
   "id": "619fb24f",
   "metadata": {},
   "outputs": [
    {
     "name": "stdout",
     "output_type": "stream",
     "text": [
      "no\n",
      "yes\n"
     ]
    }
   ],
   "source": [
    "#1.\tWrite a Python program to find those numbers which are divisible by 7 and multiple of 5, between 1500 and 2700 (both included).\n",
    "\n",
    "def divis(num):\n",
    "  if (num%7 == 0 and num%5 == 0 and num >= 1500 and num <= 2700):\n",
    "    return \"yes\";\n",
    "  else:\n",
    "    return \"no\"\n",
    "\n",
    "print(divis(1500))\n",
    "print(divis(2100))"
   ]
  },
  {
   "cell_type": "code",
   "execution_count": 11,
   "id": "ee4e21e0",
   "metadata": {},
   "outputs": [
    {
     "data": {
      "text/plain": [
       "9"
      ]
     },
     "execution_count": 11,
     "metadata": {},
     "output_type": "execute_result"
    }
   ],
   "source": [
    "import random\n",
    "random.randrange(1,10)"
   ]
  },
  {
   "cell_type": "code",
   "execution_count": 19,
   "id": "1d8cd66b",
   "metadata": {},
   "outputs": [
    {
     "name": "stdout",
     "output_type": "stream",
     "text": [
      "enter number between 1 to 9: 5\n",
      "answer is: 2\n"
     ]
    }
   ],
   "source": [
    "#2.\tWrite a Python program to guess a number between 1 to 9.\n",
    "import random;\n",
    "\n",
    "def guess():\n",
    "  ans = random.randrange(1,10)\n",
    "  num = input(\"enter number between 1 to 9: \");\n",
    "  if(ans == num):\n",
    "    return \"correct\";\n",
    "  else:\n",
    "    return \"answer is: \" + str(ans);\n",
    "print(guess());"
   ]
  },
  {
   "cell_type": "code",
   "execution_count": 20,
   "id": "f19e5ef7",
   "metadata": {},
   "outputs": [
    {
     "name": "stdout",
     "output_type": "stream",
     "text": [
      "please enter letter: f\n",
      "f is a consonant\n"
     ]
    }
   ],
   "source": [
    "#4.\tWrite a Python program to check whether an alphabet is a vowel or consonant\n",
    "vowel = ['a','e','i','o','u']\n",
    "def isVowel():\n",
    "  uInput = input(\"please enter letter: \");\n",
    "  if(uInput.lower() in vowel):\n",
    "    return uInput + \" is a vowel\";\n",
    "  else:\n",
    "    return uInput + \" is a consonant\";\n",
    "print(isVowel())"
   ]
  },
  {
   "cell_type": "code",
   "execution_count": 21,
   "id": "1c012e7b",
   "metadata": {},
   "outputs": [
    {
     "name": "stdout",
     "output_type": "stream",
     "text": [
      "first number: 5\n",
      "second number: 6\n",
      "11\n"
     ]
    }
   ],
   "source": [
    "#5.\tWrite a Python program to sum of two given integers. However, if the sum is between 15 to 20 it will return 20\n",
    "def add():\n",
    "  numList = []\n",
    "  numList.append(int(input(\"first number: \")))\n",
    "  numList.append(int(input(\"second number: \")))\n",
    "  if sum(numList) in range(15,21):\n",
    "    return 20;\n",
    "  else:\n",
    "    return sum(numList);\n",
    "\n",
    "print(add())"
   ]
  },
  {
   "cell_type": "code",
   "execution_count": 22,
   "id": "d5bb9d6a",
   "metadata": {},
   "outputs": [
    {
     "name": "stdout",
     "output_type": "stream",
     "text": [
      "300\n"
     ]
    }
   ],
   "source": [
    "#6.\tWrite a Python function to find the Max of three numbers.\n",
    "numberList = [10,19,300]\n",
    "def findMax(nameOfPara):\n",
    "  return max(nameOfPara)\n",
    "\n",
    "print(findMax(numberList))"
   ]
  },
  {
   "cell_type": "code",
   "execution_count": 24,
   "id": "96093bf5",
   "metadata": {},
   "outputs": [
    {
     "name": "stdout",
     "output_type": "stream",
     "text": [
      "dcba4321\n",
      "enter string: pokemon\n",
      "nomekop\n"
     ]
    }
   ],
   "source": [
    "#7.\tWrite a Python program to reverse a string. Sample String : \"1234abcd\"\n",
    "s = \"1234\"\n",
    "\n",
    "def reverse(stringH):\n",
    "  reverse_list1 = \"\"\n",
    "  for i in range(len(stringH)):\n",
    "    reverse_list1+=stringH[-i - 1];\n",
    "  return reverse_list1;\n",
    "print(reverse(\"1234abcd\"))\n",
    "\n",
    "def reverse2():\n",
    "  s=input(\"enter string: \")\n",
    "  return s[::-1]\n",
    "print(reverse2())\n"
   ]
  },
  {
   "cell_type": "code",
   "execution_count": 16,
   "id": "0c1119cf",
   "metadata": {},
   "outputs": [
    {
     "name": "stdout",
     "output_type": "stream",
     "text": [
      "Upper case count: 3\n",
      "Lower case count: 13\n"
     ]
    }
   ],
   "source": [
    "string = \"The quick Brown Fox\"\n",
    "upper_count = 0\n",
    "lower_count = 0\n",
    "\n",
    "for i in string:\n",
    "    if i.isupper():\n",
    "        upper_count = upper_count + 1\n",
    "    elif i.islower():\n",
    "        lower_count = lower_count + 1\n",
    "print(\"Upper case count:\", upper_count)\n",
    "print(\"Lower case count:\", lower_count)\n",
    "        "
   ]
  },
  {
   "cell_type": "code",
   "execution_count": 25,
   "id": "443b8a59",
   "metadata": {},
   "outputs": [
    {
     "name": "stdout",
     "output_type": "stream",
     "text": [
      "upper case characters:  3\n",
      "lower case characters:  13\n"
     ]
    }
   ],
   "source": [
    "#8.\tWrite a Python function that accepts a string and calculate the number of upper case letters and lower case letters. Sample String : 'The quick Brown Fox'\n",
    "def countL(stringH):\n",
    "  #add 1 for each character in the string if the character is uppercase\n",
    "  print(\"upper case characters: \", sum(1 for chara in stringH if chara.isupper()))\n",
    "  print(\"lower case characters: \", sum(1 for chara in stringH if chara.islower()))\n",
    "countL('The quick Brown Fox')"
   ]
  },
  {
   "cell_type": "code",
   "execution_count": 67,
   "id": "93a60043",
   "metadata": {},
   "outputs": [
    {
     "name": "stdout",
     "output_type": "stream",
     "text": [
      "Enter a number: 117\n",
      "not a prime number\n",
      "3 times 39 is 117\n"
     ]
    }
   ],
   "source": [
    "#9.\tWrite a Python function that takes a number as a parameter and check the number is prime or not.\n",
    "# prime numbers are greater than 1\n",
    "#in range(2, num) if number is divisible by any number in that range, we already know it's not prime so it doesn't\n",
    "#matter if it divides by all numbers in that range or not, just 1 between 2 and n-1 is enough\n",
    "#we say num in range because it doesn't count num since that's how range works\n",
    "#I think \"//\" is so it remains an int not float\n",
    "\n",
    "def isPrime():\n",
    "    num = int(input(\"Enter a number: \"));\n",
    "    if num <= 1:\n",
    "        print(\"Please enter a number greater than 1\")\n",
    "    elif num == 2:\n",
    "        print(\"it is a prime number\")\n",
    "    elif num > 2:\n",
    "        for i in range(2, num):\n",
    "            if (num % i) == 0:\n",
    "                print(\"not a prime number\")\n",
    "                print(i,\"times\",num//i,\"is\",num)\n",
    "                break\n",
    "        else:\n",
    "            print(\"it is a prime number\")\n",
    "\n",
    "\n",
    "isPrime()"
   ]
  },
  {
   "cell_type": "code",
   "execution_count": 6,
   "id": "e4c4c6c1",
   "metadata": {},
   "outputs": [
    {
     "name": "stdout",
     "output_type": "stream",
     "text": [
      "[1]\n",
      "[1, 4]\n",
      "[1, 4, 9]\n",
      "[1, 4, 9, 16]\n",
      "[1, 4, 9, 16, 25]\n",
      "[1, 4, 9, 16, 25, 36]\n",
      "[1, 4, 9, 16, 25, 36, 49]\n",
      "[1, 4, 9, 16, 25, 36, 49, 64]\n",
      "[1, 4, 9, 16, 25, 36, 49, 64, 81]\n",
      "[1, 4, 9, 16, 25, 36, 49, 64, 81, 100]\n",
      "[1, 4, 9, 16, 25, 36, 49, 64, 81, 100, 121]\n",
      "[1, 4, 9, 16, 25, 36, 49, 64, 81, 100, 121, 144]\n",
      "[1, 4, 9, 16, 25, 36, 49, 64, 81, 100, 121, 144, 169]\n",
      "[1, 4, 9, 16, 25, 36, 49, 64, 81, 100, 121, 144, 169, 196]\n",
      "[1, 4, 9, 16, 25, 36, 49, 64, 81, 100, 121, 144, 169, 196, 225]\n",
      "[1, 4, 9, 16, 25, 36, 49, 64, 81, 100, 121, 144, 169, 196, 225, 256]\n",
      "[1, 4, 9, 16, 25, 36, 49, 64, 81, 100, 121, 144, 169, 196, 225, 256, 289]\n",
      "[1, 4, 9, 16, 25, 36, 49, 64, 81, 100, 121, 144, 169, 196, 225, 256, 289, 324]\n",
      "[1, 4, 9, 16, 25, 36, 49, 64, 81, 100, 121, 144, 169, 196, 225, 256, 289, 324, 361]\n",
      "[1, 4, 9, 16, 25, 36, 49, 64, 81, 100, 121, 144, 169, 196, 225, 256, 289, 324, 361, 400]\n",
      "[1, 4, 9, 16, 25, 36, 49, 64, 81, 100, 121, 144, 169, 196, 225, 256, 289, 324, 361, 400, 441]\n",
      "[1, 4, 9, 16, 25, 36, 49, 64, 81, 100, 121, 144, 169, 196, 225, 256, 289, 324, 361, 400, 441, 484]\n",
      "[1, 4, 9, 16, 25, 36, 49, 64, 81, 100, 121, 144, 169, 196, 225, 256, 289, 324, 361, 400, 441, 484, 529]\n",
      "[1, 4, 9, 16, 25, 36, 49, 64, 81, 100, 121, 144, 169, 196, 225, 256, 289, 324, 361, 400, 441, 484, 529, 576]\n",
      "[1, 4, 9, 16, 25, 36, 49, 64, 81, 100, 121, 144, 169, 196, 225, 256, 289, 324, 361, 400, 441, 484, 529, 576, 625]\n",
      "[1, 4, 9, 16, 25, 36, 49, 64, 81, 100, 121, 144, 169, 196, 225, 256, 289, 324, 361, 400, 441, 484, 529, 576, 625, 676]\n",
      "[1, 4, 9, 16, 25, 36, 49, 64, 81, 100, 121, 144, 169, 196, 225, 256, 289, 324, 361, 400, 441, 484, 529, 576, 625, 676, 729]\n",
      "[1, 4, 9, 16, 25, 36, 49, 64, 81, 100, 121, 144, 169, 196, 225, 256, 289, 324, 361, 400, 441, 484, 529, 576, 625, 676, 729, 784]\n",
      "[1, 4, 9, 16, 25, 36, 49, 64, 81, 100, 121, 144, 169, 196, 225, 256, 289, 324, 361, 400, 441, 484, 529, 576, 625, 676, 729, 784, 841]\n",
      "[1, 4, 9, 16, 25, 36, 49, 64, 81, 100, 121, 144, 169, 196, 225, 256, 289, 324, 361, 400, 441, 484, 529, 576, 625, 676, 729, 784, 841, 900]\n",
      "None\n"
     ]
    }
   ],
   "source": [
    "#Write a Python function to create and print a list where the values are square of numbers \n",
    "#between 1 and 30 (both included).\n",
    "\n",
    "def square():\n",
    "    sq=[]\n",
    "    for i in range(0,30):\n",
    "        c=(i+1)*(i+1)\n",
    "        sq.append(c)\n",
    "        print(sq)\n",
    "\n",
    "print(square())"
   ]
  },
  {
   "cell_type": "code",
   "execution_count": 8,
   "id": "5a00a8c3",
   "metadata": {},
   "outputs": [
    {
     "name": "stdout",
     "output_type": "stream",
     "text": [
      "Square of numbers between 1 and 30: [1, 4, 9, 16, 25, 36, 49, 64, 81, 100, 121, 144, 169, 196, 225, 256, 289, 324, 361, 400, 441, 484, 529, 576, 625, 676, 729, 784, 841, 900]\n"
     ]
    }
   ],
   "source": [
    "def square():\n",
    "    sq=[]\n",
    "    for i in range(0,30):\n",
    "        c=(i+1)*(i+1)\n",
    "        sq.append(c)\n",
    "    return sq\n",
    "\n",
    "print(\"Square of numbers between 1 and 30:\",square())"
   ]
  },
  {
   "cell_type": "code",
   "execution_count": 1,
   "id": "fe4d940c",
   "metadata": {},
   "outputs": [
    {
     "name": "stdout",
     "output_type": "stream",
     "text": [
      "stud1 is instance of Stduent:  True\n",
      "stud1 is instance of Marks:  False\n",
      "mark1 is instance of Marks:  True\n",
      "mark1 is instance of Student:  False\n",
      "Student is subclass of object:  True\n",
      "Marks is subclass of object:  True\n"
     ]
    }
   ],
   "source": [
    "#Write a Python program to create two empty classes, Student and Marks. Now create\n",
    "#some instances and check whether they are instances of the said classes or not. Also,\n",
    "#check whether the said classes are subclasses of the built-in object class or not.\n",
    "\n",
    "class Student():\n",
    "    pass;\n",
    "\n",
    "class Marks():\n",
    "    pass;\n",
    "\n",
    "stud1 = Student();\n",
    "mark1 = Marks();\n",
    "\n",
    "print('stud1 is instance of Stduent: ' , isinstance(stud1,Student))\n",
    "print('stud1 is instance of Marks: ' , isinstance(stud1,Marks))\n",
    "print('mark1 is instance of Marks: ' , isinstance(mark1,Marks))\n",
    "print('mark1 is instance of Student: ' , isinstance(mark1,Student))\n",
    "print('Student is subclass of object: ' , issubclass(Student, object))\n",
    "print('Marks is subclass of object: ' , issubclass(Marks, object))"
   ]
  },
  {
   "cell_type": "code",
   "execution_count": 22,
   "id": "e5e55e45",
   "metadata": {},
   "outputs": [
    {
     "name": "stdout",
     "output_type": "stream",
     "text": [
      "45\n",
      "78\n",
      "<__main__.Student object at 0x00000234C419F190>\n"
     ]
    }
   ],
   "source": [
    "class Student:\n",
    "    pass\n",
    "    \n",
    "std1 = Student()\n",
    "std1.marks1 = 45\n",
    "std1.marks2 = 78\n",
    "std2 = Student()\n",
    "std2.marks1 = 99\n",
    "std2.marks2 = 33\n",
    "\n",
    "print(std1.marks1)\n",
    "print(std1.marks2)\n",
    "print(std1)"
   ]
  },
  {
   "cell_type": "code",
   "execution_count": 21,
   "id": "3438f34d",
   "metadata": {},
   "outputs": [
    {
     "name": "stdout",
     "output_type": "stream",
     "text": [
      "22\n",
      "66\n"
     ]
    }
   ],
   "source": [
    "class Students:\n",
    "    def __init__(self, marks1, marks2):\n",
    "        self.marks1 = marks1\n",
    "        self.marks2 = marks2\n",
    "    \n",
    "std1 = Students(22,66)\n",
    "std2 = Students(33,88)\n",
    "    \n",
    "print(std1.marks1)\n",
    "print(std1.marks2)"
   ]
  },
  {
   "cell_type": "code",
   "execution_count": 2,
   "id": "8fd3c629",
   "metadata": {},
   "outputs": [
    {
     "name": "stdout",
     "output_type": "stream",
     "text": [
      "Name:  Jane  Mark:  99\n",
      "Name:  Lala  Mark:  1\n"
     ]
    }
   ],
   "source": [
    "#12.Write a Python class named Student with two attributes student_name, marks. \n",
    "#Modify the attribute values of the said class and print the original and modified values \n",
    "#of the said attributes.\n",
    "#can also change simply doing s1.name('name')\n",
    "\n",
    "class Student:\n",
    "  def __init__(self, name, mark):\n",
    "    self.name = name\n",
    "    self.mark = mark\n",
    "\n",
    "  def sInfo(self):\n",
    "    print(\"Name: \", self.name, \" Mark: \", self.mark)\n",
    "  def changeName(self,name,mark):\n",
    "    self.name = name\n",
    "    self.mark = mark\n",
    "\n",
    "s1 = Student(\"Jane\", 99)\n",
    "s1.sInfo()\n",
    "s1.changeName(\"John\", 1);\n",
    "s1.name = \"Lala\";\n",
    "s1.sInfo()\n"
   ]
  },
  {
   "cell_type": "code",
   "execution_count": 24,
   "id": "9f65fe49",
   "metadata": {},
   "outputs": [
    {
     "name": "stdout",
     "output_type": "stream",
     "text": [
      "I\n",
      "MMMM\n"
     ]
    }
   ],
   "source": [
    "class py_solution:\n",
    "    def int_to_Roman(self, num):\n",
    "        val = [\n",
    "            1000, 900, 500, 400,\n",
    "            100, 90, 50, 40,\n",
    "            10, 9, 5, 4,\n",
    "            1\n",
    "            ]\n",
    "        syb = [\n",
    "            \"M\", \"CM\", \"D\", \"CD\",\n",
    "            \"C\", \"XC\", \"L\", \"XL\",\n",
    "            \"X\", \"IX\", \"V\", \"IV\",\n",
    "            \"I\"\n",
    "            ]\n",
    "        roman_num = ''\n",
    "        i = 0\n",
    "        while  num > 0:\n",
    "            for _ in range(num // val[i]):\n",
    "                roman_num += syb[i]\n",
    "                num -= val[i]\n",
    "            i += 1\n",
    "        return roman_num\n",
    "\n",
    "\n",
    "print(py_solution().int_to_Roman(1))\n",
    "print(py_solution().int_to_Roman(4000))"
   ]
  },
  {
   "cell_type": "code",
   "execution_count": 5,
   "id": "56d5fc10",
   "metadata": {},
   "outputs": [
    {
     "name": "stdout",
     "output_type": "stream",
     "text": [
      "MMMMMLI"
     ]
    }
   ],
   "source": [
    "class Convert():\n",
    "    def __init__(self, num):\n",
    "        self.roman =  { 1: 'I', 4: 'IV', 5: 'V', 9: 'IX', 10: 'X', 40: 'XL',\n",
    "                  50: 'L', 90: 'XC', 100: 'C', 400: 'XD', 500: 'D', 900: 'CM', 1000: 'M'}\n",
    "        self.order = [1000, 900, 500, 400, 100, 90, 50, 40, 10, 9, 5, 4, 1] \n",
    "        self.num = num\n",
    "        \n",
    "    def convertTo(self):\n",
    "        i=0;\n",
    "        while self.num > 0:\n",
    "        # divide from large number 1000,900,500...\n",
    "        # if result is less than 1 then skip\n",
    "        # otherwise grab the corresponding letter\n",
    "        # then subtract the number\n",
    "            for x in range(self.num // self.order[i]):\n",
    "                print(self.roman.get(self.order[i]), end = '')\n",
    "                self.num -= self.order[i]\n",
    "                #move to next order\n",
    "            i+=1\n",
    "        return\n",
    "\n",
    "   \n",
    "c = Convert(5051);\n",
    "c.convertTo()"
   ]
  },
  {
   "cell_type": "code",
   "execution_count": 7,
   "id": "3a435317",
   "metadata": {},
   "outputs": [
    {
     "name": "stdout",
     "output_type": "stream",
     "text": [
      "Input String: hbkj yhui uhui hbkjn\n",
      "hbkjn uhui yhui hbkj\n"
     ]
    }
   ],
   "source": [
    "#14.\tWrite a Python class to reverse a string word by word. Input string : 'hello .py'\n",
    "\n",
    "class Reverse():\n",
    "  def __init__(self, inStr):\n",
    "    self.inStr = inStr\n",
    "\n",
    "  def reverseS(self):\n",
    "    rS = self.inStr.split(' ')\n",
    "    print(' '.join(reversed(rS)))\n",
    "\n",
    "s = input('Input String: ');\n",
    "rSt = Reverse(s)\n",
    "rSt.reverseS()"
   ]
  },
  {
   "cell_type": "code",
   "execution_count": null,
   "id": "291cd426",
   "metadata": {},
   "outputs": [],
   "source": []
  }
 ],
 "metadata": {
  "kernelspec": {
   "display_name": "Python 3",
   "language": "python",
   "name": "python3"
  },
  "language_info": {
   "codemirror_mode": {
    "name": "ipython",
    "version": 3
   },
   "file_extension": ".py",
   "mimetype": "text/x-python",
   "name": "python",
   "nbconvert_exporter": "python",
   "pygments_lexer": "ipython3",
   "version": "3.8.8"
  }
 },
 "nbformat": 4,
 "nbformat_minor": 5
}
