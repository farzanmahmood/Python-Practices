{
 "cells": [
  {
   "cell_type": "code",
   "execution_count": 1,
   "id": "50a9d6cc",
   "metadata": {},
   "outputs": [
    {
     "name": "stdout",
     "output_type": "stream",
     "text": [
      "Original numbers:\n",
      "[  72   79   85   90  150 -135  120  -10   60  100]\n",
      "[  72.         79.         85.         90.        150.       -135.\n",
      "  120.        -10.         60.        100.000001]\n",
      "Comparison - greater\n",
      "[False False False False False False False False False False]\n",
      "Comparison - greater_equal\n",
      "[ True  True  True  True  True  True  True  True  True False]\n",
      "Comparison - less\n",
      "[False False False False False False False False False  True]\n",
      "Comparison - less_equal\n",
      "[ True  True  True  True  True  True  True  True  True  True]\n"
     ]
    }
   ],
   "source": [
    "#Write a NumPy program to create an element-wise comparison (greater,\n",
    "#greater_equal, less and less_equal) of two given arrays.\n",
    "import numpy as np\n",
    "\n",
    "x = np.array([72, 79, 85, 90, 150, -135, 120, -10, 60, 100])\n",
    "y = np.array([72, 79, 85, 90, 150, -135, 120, -10, 60, 100.000001])\n",
    "\n",
    "print(\"Original numbers:\")\n",
    "print(x)\n",
    "print(y)\n",
    "print(\"Comparison - greater\")\n",
    "print(np.greater(x, y))\n",
    "print(\"Comparison - greater_equal\")\n",
    "print(np.greater_equal(x, y))\n",
    "print(\"Comparison - less\")\n",
    "print(np.less(x, y))\n",
    "print(\"Comparison - less_equal\")\n",
    "print(np.less_equal(x, y))"
   ]
  },
  {
   "cell_type": "code",
   "execution_count": 3,
   "id": "642eedce",
   "metadata": {},
   "outputs": [
    {
     "name": "stdout",
     "output_type": "stream",
     "text": [
      "An array of 10 zeros:\n",
      "[0. 0. 0. 0. 0. 0. 0. 0. 0. 0.]\n",
      "An array of 10 ones:\n",
      "[1. 1. 1. 1. 1. 1. 1. 1. 1. 1.]\n",
      "An array of 10 fives:\n",
      "[5. 5. 5. 5. 5. 5. 5. 5. 5. 5.]\n"
     ]
    }
   ],
   "source": [
    "#Write a NumPy program to create an array of 10 zeros,10 ones, 10 fives.\n",
    "\n",
    "array1=np.zeros(10)\n",
    "print(\"An array of 10 zeros:\")\n",
    "print(array1)\n",
    "array2=np.ones(10)\n",
    "print(\"An array of 10 ones:\")\n",
    "print(array2)\n",
    "array3=np.ones(10)*5\n",
    "print(\"An array of 10 fives:\")\n",
    "print(array3)"
   ]
  },
  {
   "cell_type": "code",
   "execution_count": 18,
   "id": "4e46bc0d",
   "metadata": {},
   "outputs": [
    {
     "name": "stdout",
     "output_type": "stream",
     "text": [
      "Random number between 0 and 1:\n",
      "[-0.57116892 -0.65042062  0.03214388  0.22273205]\n"
     ]
    }
   ],
   "source": [
    "#3.\tWrite a NumPy program to generate a random number between 0 and 1\n",
    "import numpy as np \n",
    "#random.random return number in range 0-1\n",
    "rand_num = np.random.random()\n",
    "\n",
    "print(np.random.random(3))\n",
    "#random.uniform return float between # to #\n",
    "print(np.random.uniform(5,6))\n",
    "\n",
    "#randint(low, high, size, dtype=int)\n",
    "#size - array(row,col)\n",
    "print(np.random.randint(10,size=(10)))\n",
    "print(np.random.randint(10,20,size=(3,10)))"
   ]
  },
  {
   "cell_type": "code",
   "execution_count": 19,
   "id": "edf9edb8",
   "metadata": {},
   "outputs": [
    {
     "name": "stdout",
     "output_type": "stream",
     "text": [
      "[[21 11 19 17]\n",
      " [11 21 21 16]\n",
      " [10 14 20 20]]\n"
     ]
    }
   ],
   "source": [
    "#4.\tWrite a NumPy program to create a 3x4 matrix filled with values from 10 to 21.\n",
    "print(np.random.randint(10,22,size=(3,4)))"
   ]
  },
  {
   "cell_type": "code",
   "execution_count": 20,
   "id": "983583bd",
   "metadata": {},
   "outputs": [
    {
     "name": "stdout",
     "output_type": "stream",
     "text": [
      "[1. 2. 3. 4.]\n",
      "[1. 2. 3. 4.]\n"
     ]
    }
   ],
   "source": [
    "'''\n",
    "5.\tWrite a NumPy program to convert an array to a float type. \n",
    "Sample output:\n",
    "Original array\n",
    "[1, 2, 3, 4]\n",
    "'''\n",
    "a = np.array([1, 2, 3, 4])\n",
    "print(a.astype(np.float32))\n",
    "x = np.asfarray(a)\n",
    "print(x)"
   ]
  },
  {
   "cell_type": "code",
   "execution_count": 21,
   "id": "b4325217",
   "metadata": {},
   "outputs": [
    {
     "name": "stdout",
     "output_type": "stream",
     "text": [
      "[1, 2, 3, 4]\n",
      "[11  2  3  4]\n",
      "[1, 2, 3, 4]\n",
      "[12  2  3  4]\n",
      "True\n",
      "[1 2 3 4]\n",
      "[1 2 3 4]\n"
     ]
    }
   ],
   "source": [
    "#6.\tWrite a NumPy program to convert a list and tuple into arrays\n",
    "l = [1, 2, 3, 4]\n",
    "t = (1,2,3,4)\n",
    "n = np.array(l) #makes a copy\n",
    "n[0] = 11\n",
    "print(l)\n",
    "print(n)\n",
    "\n",
    "n2 = np.asarray(l) #will not make copy unless necessary\n",
    "n2[0] = 12\n",
    "print(l)\n",
    "print(n2)\n",
    "print(n.dtype == n2.dtype)\n",
    "\n",
    "tp = np.array(t)\n",
    "print(tp)\n",
    "tp2 = np.asarray(t)\n",
    "print(tp2)"
   ]
  },
  {
   "cell_type": "code",
   "execution_count": 22,
   "id": "3fca6e1e",
   "metadata": {},
   "outputs": [
    {
     "name": "stdout",
     "output_type": "stream",
     "text": [
      "[10 40]\n"
     ]
    }
   ],
   "source": [
    "#7.\tWrite a NumPy program to find common values between two arrays.  \n",
    "#Array1: [ 0 10 20 40 60]\n",
    "#Array2: [10, 30, 40]\n",
    "a1 =  np.array([ 0, 10, 20, 40, 60])\n",
    "a2 = np.array([10, 30, 40])\n",
    "print(np.intersect1d(a1,a2))"
   ]
  },
  {
   "cell_type": "code",
   "execution_count": 24,
   "id": "a751b5f4",
   "metadata": {},
   "outputs": [
    {
     "name": "stdout",
     "output_type": "stream",
     "text": [
      "Maximum Values index:  6\n",
      "Maximum Values :  5\n",
      "Minimum Values index:  0\n"
     ]
    }
   ],
   "source": [
    "'''8.\tWrite a NumPy program to find the indices of the maximum and minimum values along the given axis of an array.  \n",
    "Original array: [1 2 3 4 5 6]'''\n",
    "a3 = np.array([1, 2, 3, 4, 5, 6])\n",
    "print(\"Maximum Values index: \",np.max(a3))\n",
    "print(\"Maximum Values : \",np.argmax(a3))\n",
    "print(\"Minimum Values index: \",np.argmin(a3))"
   ]
  },
  {
   "cell_type": "code",
   "execution_count": 2,
   "id": "0736c22a",
   "metadata": {},
   "outputs": [
    {
     "name": "stdout",
     "output_type": "stream",
     "text": [
      "-3.0000000000000004\n"
     ]
    }
   ],
   "source": [
    "#9.\tWrite a NumPy program to compute the determinant of a given square array.\n",
    "# determinant is a value that can be computed from the elements of a square matrix.\n",
    "# https://www.youtube.com/watch?v=Ip3X9LOh2dk\n",
    "from numpy import linalg as LA  #import linear algebra\n",
    "a = np.array([[1,3], [3,6]]) \n",
    "print(np.linalg.det(a))"
   ]
  },
  {
   "cell_type": "code",
   "execution_count": 3,
   "id": "61056b61",
   "metadata": {},
   "outputs": [
    {
     "name": "stdout",
     "output_type": "stream",
     "text": [
      "[[6 4]\n",
      " [6 5]]\n"
     ]
    }
   ],
   "source": [
    " #10.\tWrite a NumPy program to compute the multiplication of two given matrixes.\n",
    "c =  np.array([[1,2],[2,1]] )\n",
    "d = np.array([[2,2],[2,1] ])\n",
    "print(np.dot(c,d))"
   ]
  },
  {
   "cell_type": "code",
   "execution_count": 17,
   "id": "27e815b9",
   "metadata": {},
   "outputs": [
    {
     "name": "stdout",
     "output_type": "stream",
     "text": [
      "(4, 3)\n"
     ]
    },
    {
     "data": {
      "text/plain": [
       "12"
      ]
     },
     "execution_count": 17,
     "metadata": {},
     "output_type": "execute_result"
    }
   ],
   "source": [
    "oa = [(b'James', 5, 48.5 ), (b'Nail', 6, 52.5 ), (b'Paul', 5, 42.1 ), (b'Pit', 5, 40.11)]\n",
    "oa\n",
    "print(np.shape(oa))\n",
    "np.size(oa)\n",
    "\n"
   ]
  },
  {
   "cell_type": "code",
   "execution_count": 24,
   "id": "97bf0a35",
   "metadata": {},
   "outputs": [
    {
     "name": "stdout",
     "output_type": "stream",
     "text": [
      "Original array:\n",
      "[(b'James', 5, 48.5 ) (b'Nail', 6, 52.5 ) (b'Paul', 5, 42.1 )\n",
      " (b'Pit', 5, 40.11)]\n",
      "Sort by height\n",
      "[(b'Pit', 5, 40.11) (b'Paul', 5, 42.1 ) (b'James', 5, 48.5 )\n",
      " (b'Nail', 6, 52.5 )]\n"
     ]
    }
   ],
   "source": [
    "#Write a NumPy program to create a structured array from given\n",
    "#student name, height, class and their data types. Now sort the array on\n",
    "#height.\n",
    "#I DONT REALLY GET THIS, ESPECIALLY THE s10, s15 whatever thing\n",
    "\n",
    "data_type = [('name', 'S10'), ('class', int), ('height', float)]\n",
    "students_details = [('James', 5, 48.5), ('Nail', 6, 52.5),('Paul', 5, 42.10), ('Pit', 5, 40.11)]\n",
    "# create a structured array\n",
    "students = np.array(students_details, dtype=data_type)   \n",
    "print(\"Original array:\")\n",
    "print(students)\n",
    "print(\"Sort by height\")\n",
    "print(np.sort(students, order='height'))   "
   ]
  },
  {
   "cell_type": "code",
   "execution_count": 30,
   "id": "46a95093",
   "metadata": {},
   "outputs": [
    {
     "name": "stdout",
     "output_type": "stream",
     "text": [
      "Original array:\n",
      "[1023 5202 6230 1671 1682 5241 4532]\n",
      "Indices of the sorted elements of a given array:\n",
      "[0 3 4 6 1 5 2]\n",
      "Sorted array: \n",
      "[1023 1671 1682 4532 5202 5241 6230]\n"
     ]
    }
   ],
   "source": [
    "#Write a NumPy program to get the indices of the sorted elements of\n",
    "#a given array. \n",
    "#Original array:\n",
    "#[1023 5202 6230 1671 1682 5241 4532]\n",
    "\n",
    "num_array = np.array([1023, 5202, 6230, 1671, 1682, 5241, 4532])\n",
    "print(\"Original array:\")\n",
    "print(num_array)\n",
    "i = np.sort(num_array)\n",
    "h = np.argsort(num_array)\n",
    "print(\"Indices of the sorted elements of a given array:\")\n",
    "print(h)\n",
    "print(\"Sorted array: \")\n",
    "print(i) #sorted version"
   ]
  },
  {
   "cell_type": "code",
   "execution_count": 39,
   "id": "3989121c",
   "metadata": {},
   "outputs": [
    {
     "name": "stdout",
     "output_type": "stream",
     "text": [
      "Array1:\n",
      "['Python' 'PHP']\n",
      "Array2:\n",
      "[' Java' ' C++']\n",
      "new array:\n",
      "['Python Java' 'PHP C++']\n",
      "Concatenate looks like this but it's not the answer here: \n",
      "['Python' 'PHP' ' Java' ' C++']\n"
     ]
    }
   ],
   "source": [
    "#Write a NumPy program to concatenate element-wise two arrays of string. \n",
    "#Array1:\n",
    "#['Python''PHP']\n",
    "#Array2:\n",
    "#['Java''C++'']\n",
    "\n",
    "x1 = np.array(['Python', 'PHP']) #x1 = np.array(['Python', 'PHP'], dtype=str) secifies type for some reason\n",
    "x2 = np.array([' Java', ' C++'])\n",
    "print(\"Array1:\")\n",
    "print(x1)\n",
    "print(\"Array2:\")\n",
    "print(x2)\n",
    "new_array = np.char.add(x1, x2)\n",
    "print(\"new array:\")\n",
    "print(new_array)\n",
    "\n",
    "\n",
    "print(\"Concatenate looks like this but it's not the answer here: \")\n",
    "print(np.concatenate((x1, x2)))"
   ]
  },
  {
   "cell_type": "code",
   "execution_count": 44,
   "id": "56d919ad",
   "metadata": {},
   "outputs": [
    {
     "name": "stdout",
     "output_type": "stream",
     "text": [
      "Original Array:\n",
      "['Python' 'PHP' 'Java' 'C++']\n",
      "New array:\n",
      "['PythonPythonPython' 'PHPPHPPHP' 'JavaJavaJava' 'C++C++C++']\n",
      "np.repeat():\n",
      " ['Python' 'Python' 'Python' 'PHP' 'PHP' 'PHP' 'Java' 'Java' 'Java' 'C++'\n",
      " 'C++' 'C++']\n",
      "\n",
      "np.transpose():\n",
      " [['Python' 'Python' 'Python']\n",
      " ['PHP' 'PHP' 'PHP']\n",
      " ['Java' 'Java' 'Java']\n",
      " ['C++' 'C++' 'C++']]\n"
     ]
    }
   ],
   "source": [
    "#Write a NumPy program to repeat all the elements three times of a\n",
    "#given array of string \n",
    "#Expected Output:\n",
    "#Original Array:\n",
    "#['Python' 'PHP' ' Java' ' C++']\n",
    "\n",
    "x1 = np.array(['Python', 'PHP', 'Java', 'C++'])\n",
    "print(\"Original Array:\")\n",
    "print(x1)\n",
    "new_array = np.char.multiply(x1, 3)\n",
    "print(\"New array:\")\n",
    "print(new_array)\n",
    "print(\"np.repeat():\\n\", np.repeat(x1,3))\n",
    "print(\"\\nnp.transpose():\\n\",np.transpose([x1] * 3))"
   ]
  },
  {
   "cell_type": "code",
   "execution_count": 45,
   "id": "6d6014c8",
   "metadata": {},
   "outputs": [
    {
     "name": "stdout",
     "output_type": "stream",
     "text": [
      "[list(['Python', 'PHP', 'Java', 'C++'])]\n",
      "[list(['Python', ' P', 'H', 'P', ' Java', ' C++'])]\n",
      "[list(['Python', 'P,H,P', 'Java', 'C++'])]\n"
     ]
    }
   ],
   "source": [
    "#Write a NumPy program to split the element of a given array with\n",
    "#spaces. \n",
    "#Original Array:\n",
    "#['Python PHP Java C++']\n",
    "\n",
    "pArray =  np.array(['Python PHP Java C++'])\n",
    "pArray2 =  np.array(['Python, P,H,P, Java, C++'])\n",
    "\n",
    "print(np.char.split(pArray))\n",
    "print(np.char.split(pArray2, \",\")) #without whitespace #trying without writing sep=\n",
    "print(np.char.split(pArray2, sep=\", \")) #with whitespace"
   ]
  },
  {
   "cell_type": "code",
   "execution_count": null,
   "id": "3011737c",
   "metadata": {},
   "outputs": [],
   "source": []
  }
 ],
 "metadata": {
  "kernelspec": {
   "display_name": "Python 3",
   "language": "python",
   "name": "python3"
  },
  "language_info": {
   "codemirror_mode": {
    "name": "ipython",
    "version": 3
   },
   "file_extension": ".py",
   "mimetype": "text/x-python",
   "name": "python",
   "nbconvert_exporter": "python",
   "pygments_lexer": "ipython3",
   "version": "3.8.8"
  }
 },
 "nbformat": 4,
 "nbformat_minor": 5
}
