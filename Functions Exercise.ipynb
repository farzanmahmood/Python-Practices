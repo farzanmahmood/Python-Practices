{
 "cells": [
  {
   "cell_type": "code",
   "execution_count": 14,
   "id": "8ade6fa6",
   "metadata": {},
   "outputs": [
    {
     "name": "stdout",
     "output_type": "stream",
     "text": [
      "First number: 2\n",
      "Second number: 8\n",
      "10\n"
     ]
    }
   ],
   "source": [
    "#Q1 Write Python function that takes two inputs\n",
    "#and return their sum value\n",
    "\n",
    "def add(a,b):\n",
    "    print (a + b)\n",
    "\n",
    "a = int(input(\"First number: \"))\n",
    "b = int(input(\"Second number: \"))\n",
    "\n",
    "add(a,b)"
   ]
  },
  {
   "cell_type": "code",
   "execution_count": 37,
   "id": "57eba722",
   "metadata": {},
   "outputs": [
    {
     "name": "stdout",
     "output_type": "stream",
     "text": [
      "First number: 9\n",
      "Second number: 5\n",
      "14\n"
     ]
    }
   ],
   "source": [
    "def add2(first,second):\n",
    "    print(first+second)\n",
    "\n",
    "add2(int(input(\"First number: \")), int(input(\"Second number: \")))"
   ]
  },
  {
   "cell_type": "code",
   "execution_count": 30,
   "id": "fa61c985",
   "metadata": {},
   "outputs": [
    {
     "name": "stdout",
     "output_type": "stream",
     "text": [
      "please enter the temp in celsius: 33\n",
      "temp_fahrenheit is: 91.4\n"
     ]
    }
   ],
   "source": [
    "#Q2 Write Python function the takes a celsius temprature\n",
    "\n",
    "def convert_temp(temp_celsius):\n",
    "    temp_fahrenheit = (temp_celsius * 1.8) + 32\n",
    "    return temp_fahrenheit\n",
    "    \n",
    "\n",
    "temp_celsius = float(input(\"please enter the temp in celsius: \"))\n",
    "print(\"temp_fahrenheit is:\", convert_temp(temp_celsius))\n"
   ]
  },
  {
   "cell_type": "code",
   "execution_count": 39,
   "id": "af2d441a",
   "metadata": {},
   "outputs": [
    {
     "name": "stdout",
     "output_type": "stream",
     "text": [
      "300\n",
      "60\n"
     ]
    }
   ],
   "source": [
    "#Q3 Write a Python function to find the Max of three numbers\n",
    "\n",
    "numberList = [10,19,300]\n",
    "\n",
    "def findMax(numList):\n",
    "  return max(numList)\n",
    "\n",
    "print(findMax(numberList))\n",
    "print(findMax([20,49,60]))"
   ]
  },
  {
   "cell_type": "code",
   "execution_count": 33,
   "id": "07bb94e9",
   "metadata": {},
   "outputs": [
    {
     "name": "stdout",
     "output_type": "stream",
     "text": [
      "Enter number: 3\n",
      "Enter number2: 7\n",
      "no\n",
      "yes\n"
     ]
    }
   ],
   "source": [
    "#Q4 Write a Python function to check whether a number\n",
    "#is in a given range [5,12]\n",
    "\n",
    "def checkNumber(num):\n",
    "  if(num >= 5 and num <= 12):\n",
    "    return \"yes\"\n",
    "  else:\n",
    "    return \"no\"\n",
    "  \n",
    "def inRange(num):\n",
    "  if num in range(5,13):\n",
    "    return \"yes\"\n",
    "  else:\n",
    "    return \"no\"\n",
    "\n",
    "numInput = int(input(\"Enter number: \"))\n",
    "numInput2 = int(input(\"Enter number2: \"))\n",
    "print(checkNumber(numInput))\n",
    "print(inRange(numInput2))"
   ]
  },
  {
   "cell_type": "code",
   "execution_count": 34,
   "id": "4f67f81c",
   "metadata": {},
   "outputs": [
    {
     "name": "stdout",
     "output_type": "stream",
     "text": [
      "[1, 2, 3, 4, 5]\n"
     ]
    }
   ],
   "source": [
    "#Q5 Write a Python function that takes a list\n",
    "#and returns a new list with unique elements of the first\n",
    "#Sample_List: [1,2,3,3,3,3,4,5]\n",
    "\n",
    "def checkList(numList):\n",
    "  return list(set(numList))\n",
    "\n",
    "print(checkList([1,2,3,3,3,3,4,5]))"
   ]
  },
  {
   "cell_type": "code",
   "execution_count": 35,
   "id": "d9bc8874",
   "metadata": {},
   "outputs": [
    {
     "name": "stdout",
     "output_type": "stream",
     "text": [
      "yes\n",
      "no\n",
      "yes\n"
     ]
    }
   ],
   "source": [
    "#Q6 Given a list of numbers, return True if first\n",
    "#and last number of a list is same\n",
    "#list1=[1,2,5,4,1]\n",
    "#list2=[5,6,3,2,1]\n",
    "#list3=[88,44,55,66,77,88]\n",
    "\n",
    "def ifSame(numList):\n",
    "  if(numList[0] == numList[-1]):\n",
    "    return \"yes\"\n",
    "  else:\n",
    "    return \"no\"\n",
    "    \n",
    "list1=[1,2,5,4,1]\n",
    "list2=[5,6,3,2,1]\n",
    "list3=[88,44,55,66,77,88]\n",
    "\n",
    "print(ifSame(list1))\n",
    "print(ifSame(list2))\n",
    "print(ifSame(list3))"
   ]
  },
  {
   "cell_type": "code",
   "execution_count": 40,
   "id": "fb5a727a",
   "metadata": {},
   "outputs": [
    {
     "name": "stdout",
     "output_type": "stream",
     "text": [
      "[1, 2, 3, 4, 5]\n"
     ]
    }
   ],
   "source": [
    "#Q5 Write a Python function that takes a list\n",
    "#and returns a new list with unique elements of the first\n",
    "#Sample_List : [1,2,3,3,3,3,4,5]\n",
    "\n",
    "#inList(numList) accept a list of numbers\n",
    "#for each number in sample list\n",
    "#if it is not in the new list, add it\n",
    "#return new list when done\n",
    "\n",
    "def inList(numList):\n",
    "  newList =[]\n",
    "  for i in numList:\n",
    "    if i not in newList:\n",
    "      newList.append(i);\n",
    "  return newList;\n",
    "print(inList([1,2,3,3,3,3,4,5]))"
   ]
  },
  {
   "cell_type": "code",
   "execution_count": null,
   "id": "cdf7705c",
   "metadata": {},
   "outputs": [],
   "source": []
  }
 ],
 "metadata": {
  "kernelspec": {
   "display_name": "Python 3",
   "language": "python",
   "name": "python3"
  },
  "language_info": {
   "codemirror_mode": {
    "name": "ipython",
    "version": 3
   },
   "file_extension": ".py",
   "mimetype": "text/x-python",
   "name": "python",
   "nbconvert_exporter": "python",
   "pygments_lexer": "ipython3",
   "version": "3.8.8"
  }
 },
 "nbformat": 4,
 "nbformat_minor": 5
}
