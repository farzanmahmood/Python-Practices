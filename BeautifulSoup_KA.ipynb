{
 "cells": [
  {
   "cell_type": "markdown",
   "id": "bda5d512",
   "metadata": {},
   "source": [
    "![](WS.jpg)"
   ]
  },
  {
   "cell_type": "markdown",
   "id": "b4eec855",
   "metadata": {},
   "source": [
    "## The Components of a Web Page"
   ]
  },
  {
   "cell_type": "markdown",
   "id": "b6b748ce",
   "metadata": {},
   "source": [
    "![](BS.jpg)"
   ]
  },
  {
   "cell_type": "code",
   "execution_count": 2,
   "id": "42e313e3",
   "metadata": {},
   "outputs": [],
   "source": [
    "from bs4 import BeautifulSoup"
   ]
  },
  {
   "cell_type": "code",
   "execution_count": 7,
   "id": "2c422db6",
   "metadata": {
    "scrolled": false
   },
   "outputs": [
    {
     "name": "stdout",
     "output_type": "stream",
     "text": [
      "<html>\n",
      "<head>\n",
      "<title>A simple example page</title>\n",
      "</head>\n",
      "<body>\n",
      "<p>Here is some simple content for this page.</p>\n",
      "<div class=\"city\">\n",
      "<h2>London</h2>\n",
      "<p>London is the capital of England.</p>\n",
      "</div>\n",
      "<div class=\"country\">\n",
      "<h2>UK and England</h2>\n",
      "<p>England is one country, and the United Kingdom is four countries united together.</p>\n",
      "</div>\n",
      "</body>\n",
      "</html>\n",
      "<html>\n",
      " <head>\n",
      "  <title>\n",
      "   A simple example page\n",
      "  </title>\n",
      " </head>\n",
      " <body>\n",
      "  <p>\n",
      "   Here is some simple content for this page.\n",
      "  </p>\n",
      "  <div class=\"city\">\n",
      "   <h2>\n",
      "    London\n",
      "   </h2>\n",
      "   <p>\n",
      "    London is the capital of England.\n",
      "   </p>\n",
      "  </div>\n",
      "  <div class=\"country\">\n",
      "   <h2>\n",
      "    UK and England\n",
      "   </h2>\n",
      "   <p>\n",
      "    England is one country, and the United Kingdom is four countries united together.\n",
      "   </p>\n",
      "  </div>\n",
      " </body>\n",
      "</html>\n"
     ]
    }
   ],
   "source": [
    "str=\"\"\"<html>\n",
    "<head>\n",
    "<title>A simple example page</title>\n",
    "</head>\n",
    "<body>\n",
    "<p>Here is some simple content for this page.</p>\n",
    "<div class=\"city\">\n",
    "<h2>London</h2>\n",
    "<p>London is the capital of England.</p>\n",
    "</div>\n",
    "<div class=\"country\">\n",
    "<h2>UK and England</h2>\n",
    "<p>England is one country, and the United Kingdom is four countries united together.</p>\n",
    "</div>\n",
    "</body>\n",
    "</html>\"\"\"\n",
    "soup=BeautifulSoup(str,\"html.parser\")\n",
    "print(soup)\n",
    "print(soup.prettify())"
   ]
  },
  {
   "cell_type": "code",
   "execution_count": 4,
   "id": "509d8f7b",
   "metadata": {
    "scrolled": true
   },
   "outputs": [
    {
     "data": {
      "text/plain": [
       "'\\nHere is some simple content for this page.\\n\\nLondon\\nLondon is the capital of England.\\n\\n\\nUK and England\\nEngland is one country, and the United Kingdom is four countries united together.\\n\\n'"
      ]
     },
     "execution_count": 4,
     "metadata": {},
     "output_type": "execute_result"
    }
   ],
   "source": [
    "soup.body.text"
   ]
  },
  {
   "cell_type": "code",
   "execution_count": 8,
   "id": "d22abb9f",
   "metadata": {},
   "outputs": [
    {
     "data": {
      "text/plain": [
       "'Here is some simple content for this page.'"
      ]
     },
     "execution_count": 8,
     "metadata": {},
     "output_type": "execute_result"
    }
   ],
   "source": [
    "soup.p.text"
   ]
  },
  {
   "cell_type": "code",
   "execution_count": 6,
   "id": "a3d363c4",
   "metadata": {
    "scrolled": true
   },
   "outputs": [
    {
     "data": {
      "text/plain": [
       "'London'"
      ]
     },
     "execution_count": 6,
     "metadata": {},
     "output_type": "execute_result"
    }
   ],
   "source": [
    "soup.h2.text"
   ]
  },
  {
   "cell_type": "code",
   "execution_count": 9,
   "id": "aca0551f",
   "metadata": {},
   "outputs": [
    {
     "data": {
      "text/plain": [
       "'UK and England'"
      ]
     },
     "execution_count": 9,
     "metadata": {},
     "output_type": "execute_result"
    }
   ],
   "source": [
    "soup.find(\"div\",class_=\"country\").h2.text"
   ]
  },
  {
   "cell_type": "code",
   "execution_count": 10,
   "id": "f9302030",
   "metadata": {},
   "outputs": [
    {
     "data": {
      "text/plain": [
       "'England is one country, and the United Kingdom is four countries united together.'"
      ]
     },
     "execution_count": 10,
     "metadata": {},
     "output_type": "execute_result"
    }
   ],
   "source": [
    "soup.find(\"div\",class_=\"country\").p.text"
   ]
  },
  {
   "cell_type": "code",
   "execution_count": 11,
   "id": "71439f56",
   "metadata": {},
   "outputs": [
    {
     "name": "stdout",
     "output_type": "stream",
     "text": [
      "<html>\n",
      "<head>\n",
      "<title>A simple example page</title>\n",
      "</head>\n",
      "<body>\n",
      "<p>Here is some simple content for this page.</p>\n",
      "</body>\n",
      "</html>\n"
     ]
    }
   ],
   "source": [
    "with open(\"Test1.html\",\"r\") as html_doc:\n",
    "    soup=BeautifulSoup(html_doc,\"html.parser\") \n",
    "#print(soup.prettify())\n",
    "print(soup)"
   ]
  },
  {
   "cell_type": "code",
   "execution_count": 16,
   "id": "c1489567",
   "metadata": {},
   "outputs": [
    {
     "data": {
      "text/plain": [
       "'Here is some simple content for this page.'"
      ]
     },
     "execution_count": 16,
     "metadata": {},
     "output_type": "execute_result"
    }
   ],
   "source": [
    "soup.head\n",
    "soup.title\n",
    "soup.body\n",
    "soup.body.p.text"
   ]
  },
  {
   "cell_type": "code",
   "execution_count": null,
   "id": "d436fcb7",
   "metadata": {},
   "outputs": [],
   "source": [
    "soup.p"
   ]
  },
  {
   "cell_type": "code",
   "execution_count": null,
   "id": "80b5dd7a",
   "metadata": {},
   "outputs": [],
   "source": [
    "soup.p.text"
   ]
  },
  {
   "cell_type": "code",
   "execution_count": 9,
   "id": "eb3942a2",
   "metadata": {},
   "outputs": [],
   "source": [
    "import requests\n",
    "url = 'https://www.google.ca/'\n",
    "reqs = requests.get(url)\n",
    "soup = BeautifulSoup(reqs.text, 'lxml')"
   ]
  },
  {
   "cell_type": "code",
   "execution_count": 10,
   "id": "02a342e7",
   "metadata": {},
   "outputs": [
    {
     "data": {
      "text/plain": [
       "<body bgcolor=\"#fff\"><script nonce=\"fwL2AlaCBrrxtkhBa6pd8A==\">(function(){var src='/images/nav_logo229.png';var iesg=false;document.body.onload = function(){window.n && window.n();if (document.images){new Image().src=src;}\n",
       "if (!iesg){document.f&&document.f.q.focus();document.gbqf&&document.gbqf.q.focus();}\n",
       "}\n",
       "})();</script><div id=\"mngb\"><div id=\"gbar\"><nobr><b class=\"gb1\">Search</b> <a class=\"gb1\" href=\"https://www.google.ca/imghp?hl=en&amp;tab=wi\">Images</a> <a class=\"gb1\" href=\"https://maps.google.ca/maps?hl=en&amp;tab=wl\">Maps</a> <a class=\"gb1\" href=\"https://play.google.com/?hl=en&amp;tab=w8\">Play</a> <a class=\"gb1\" href=\"https://www.youtube.com/?gl=CA&amp;tab=w1\">YouTube</a> <a class=\"gb1\" href=\"https://news.google.com/?tab=wn\">News</a> <a class=\"gb1\" href=\"https://mail.google.com/mail/?tab=wm\">Gmail</a> <a class=\"gb1\" href=\"https://drive.google.com/?tab=wo\">Drive</a> <a class=\"gb1\" href=\"https://www.google.ca/intl/en/about/products?tab=wh\" style=\"text-decoration:none\"><u>More</u> »</a></nobr></div><div id=\"guser\" width=\"100%\"><nobr><span class=\"gbi\" id=\"gbn\"></span><span class=\"gbf\" id=\"gbf\"></span><span id=\"gbe\"></span><a class=\"gb4\" href=\"http://www.google.ca/history/optout?hl=en\">Web History</a> | <a class=\"gb4\" href=\"/preferences?hl=en\">Settings</a> | <a class=\"gb4\" href=\"https://accounts.google.com/ServiceLogin?hl=en&amp;passive=true&amp;continue=https://www.google.ca/&amp;ec=GAZAAQ\" id=\"gb_70\" target=\"_top\">Sign in</a></nobr></div><div class=\"gbh\" style=\"left:0\"></div><div class=\"gbh\" style=\"right:0\"></div></div><center><br clear=\"all\" id=\"lgpd\"/><div id=\"lga\"><img alt=\"Google\" height=\"92\" id=\"hplogo\" src=\"/images/branding/googlelogo/1x/googlelogo_white_background_color_272x92dp.png\" style=\"padding:28px 0 14px\" width=\"272\"/><br/><br/></div><form action=\"/search\" name=\"f\"><table cellpadding=\"0\" cellspacing=\"0\"><tr valign=\"top\"><td width=\"25%\"> </td><td align=\"center\" nowrap=\"\"><input name=\"ie\" type=\"hidden\" value=\"ISO-8859-1\"/><input name=\"hl\" type=\"hidden\" value=\"en-CA\"/><input name=\"source\" type=\"hidden\" value=\"hp\"/><input name=\"biw\" type=\"hidden\"/><input name=\"bih\" type=\"hidden\"/><div class=\"ds\" style=\"height:32px;margin:4px 0\"><input autocomplete=\"off\" class=\"lst\" maxlength=\"2048\" name=\"q\" size=\"57\" style=\"margin:0;padding:5px 8px 0 6px;vertical-align:top;color:#000\" title=\"Google Search\" value=\"\"/></div><br style=\"line-height:0\"/><span class=\"ds\"><span class=\"lsbb\"><input class=\"lsb\" name=\"btnG\" type=\"submit\" value=\"Google Search\"/></span></span><span class=\"ds\"><span class=\"lsbb\"><input class=\"lsb\" id=\"tsuid1\" name=\"btnI\" type=\"submit\" value=\"I'm Feeling Lucky\"/><script nonce=\"fwL2AlaCBrrxtkhBa6pd8A==\">(function(){var id='tsuid1';document.getElementById(id).onclick = function(){if (this.form.q.value){this.checked = 1;if (this.form.iflsig)this.form.iflsig.disabled = false;}\n",
       "else top.location='/doodles/';};})();</script><input name=\"iflsig\" type=\"hidden\" value=\"ALs-wAMAAAAAYZPUfWJGkeNJR2IWKZBQwp2pWqpNVXy2\"/></span></span></td><td align=\"left\" class=\"fl sblc\" nowrap=\"\" width=\"25%\"><a href=\"/advanced_search?hl=en-CA&amp;authuser=0\">Advanced search</a></td></tr></table><input id=\"gbv\" name=\"gbv\" type=\"hidden\" value=\"1\"/><script nonce=\"fwL2AlaCBrrxtkhBa6pd8A==\">(function(){\n",
       "var a,b=\"1\";if(document&&document.getElementById)if(\"undefined\"!=typeof XMLHttpRequest)b=\"2\";else if(\"undefined\"!=typeof ActiveXObject){var c,d,e=[\"MSXML2.XMLHTTP.6.0\",\"MSXML2.XMLHTTP.3.0\",\"MSXML2.XMLHTTP\",\"Microsoft.XMLHTTP\"];for(c=0;d=e[c++];)try{new ActiveXObject(d),b=\"2\"}catch(h){}}a=b;if(\"2\"==a&&-1==location.search.indexOf(\"&gbv=2\")){var f=google.gbvu,g=document.getElementById(\"gbv\");g&&(g.value=a);f&&window.setTimeout(function(){location.href=f},0)};}).call(this);</script></form><div id=\"gac_scont\"></div><div style=\"font-size:83%;min-height:3.5em\"><br/><div id=\"gws-output-pages-elements-homepage_additional_languages__als\"><style>#gws-output-pages-elements-homepage_additional_languages__als{font-size:small;margin-bottom:24px}#SIvCob{color:#3c4043;display:inline-block;line-height:28px;}#SIvCob a{padding:0 3px;}.H6sW5{display:inline-block;margin:0 2px;white-space:nowrap}.z4hgWe{display:inline-block;margin:0 2px}</style><div id=\"SIvCob\">Google offered in:  <a href=\"https://www.google.ca/setprefs?sig=0_N-j_ek7ouz5jmKPznQX1KXqu2WY%3D&amp;hl=fr&amp;source=homepage&amp;sa=X&amp;ved=0ahUKEwjz4PfzkZ30AhWeGTQIHZGMDOwQ2ZgBCAU\">Français</a> </div></div></div><span id=\"footer\"><div style=\"font-size:10pt\"><div id=\"WqQANb\" style=\"margin:19px auto;text-align:center\"><a href=\"/intl/en/ads/\">Advertising Programs</a><a href=\"/services/\">Business Solutions</a><a href=\"/intl/en/about.html\">About Google</a><a href=\"https://www.google.ca/setprefdomain?prefdom=US&amp;sig=K_Y3nE8aqQPhc849juPICM0LlCeeA%3D\" id=\"fehl\">Google.com</a></div></div><p style=\"font-size:8pt;color:#70757a\">© 2021 - <a href=\"/intl/en/policies/privacy/\">Privacy</a> - <a href=\"/intl/en/policies/terms/\">Terms</a></p></span></center><script nonce=\"fwL2AlaCBrrxtkhBa6pd8A==\">(function(){window.google.cdo={height:757,width:1440};(function(){\n",
       "var a=window.innerWidth,b=window.innerHeight;if(!a||!b){var c=window.document,d=\"CSS1Compat\"==c.compatMode?c.documentElement:c.body;a=d.clientWidth;b=d.clientHeight}a&&b&&(a!=google.cdo.width||b!=google.cdo.height)&&google.log(\"\",\"\",\"/client_204?&atyp=i&biw=\"+a+\"&bih=\"+b+\"&ei=\"+google.kEI);}).call(this);})();</script> <script nonce=\"fwL2AlaCBrrxtkhBa6pd8A==\">(function(){google.xjs={ck:'',cs:'',excm:[]};})();</script> <script nonce=\"fwL2AlaCBrrxtkhBa6pd8A==\">(function(){var u='/xjs/_/js/k\\x3dxjs.hp.en.xR7lq4dqIW0.O/am\\x3dAJ8AWAE/d\\x3d1/ed\\x3d1/rs\\x3dACT90oFbDTxVeNeZAFPSBo1Jt2ZLGNRRRQ/m\\x3dsb_he,d';\n",
       "var e=this||self,f=function(a){return a};var g;var l=function(a,b){this.g=b===h?a:\"\"};l.prototype.toString=function(){return this.g+\"\"};var h={};\n",
       "function m(){var a=u;google.lx=function(){n(a);google.lx=function(){}};google.bx||google.lx()}\n",
       "function n(a){google.timers&&google.timers.load&&google.tick&&google.tick(\"load\",\"xjsls\");var b=document;var c=\"SCRIPT\";\"application/xhtml+xml\"===b.contentType&&(c=c.toLowerCase());c=b.createElement(c);if(void 0===g){b=null;var k=e.trustedTypes;if(k&&k.createPolicy){try{b=k.createPolicy(\"goog#html\",{createHTML:f,createScript:f,createScriptURL:f})}catch(p){e.console&&e.console.error(p.message)}g=b}else g=b}a=(b=g)?b.createScriptURL(a):a;a=new l(a,h);c.src=a instanceof l&&a.constructor===l?a.g:\"type_error:TrustedResourceUrl\";var d;a=(c.ownerDocument&&c.ownerDocument.defaultView||window).document;(d=(b=null===(d=a.querySelector)||void 0===d?void 0:d.call(a,\"script[nonce]\"))?b.nonce||b.getAttribute(\"nonce\")||\"\":\"\")&&c.setAttribute(\"nonce\",d);document.body.appendChild(c);google.psa=!0};setTimeout(function(){m()},0);})();(function(){window.google.xjsu='/xjs/_/js/k\\x3dxjs.hp.en.xR7lq4dqIW0.O/am\\x3dAJ8AWAE/d\\x3d1/ed\\x3d1/rs\\x3dACT90oFbDTxVeNeZAFPSBo1Jt2ZLGNRRRQ/m\\x3dsb_he,d';})();function _DumpException(e){throw e;}\n",
       "function _F_installCss(c){}\n",
       "(function(){google.jl={attn:false,blt:'none',chnk:0,dw:false,dwu:true,emtn:0,end:0,ine:false,lls:'default',pdt:0,rep:0,snet:true,strt:0,ubm:false,uwp:true};})();(function(){var pmc='{\\x22d\\x22:{},\\x22sb_he\\x22:{\\x22agen\\x22:true,\\x22cgen\\x22:true,\\x22client\\x22:\\x22heirloom-hp\\x22,\\x22dh\\x22:true,\\x22dhqt\\x22:true,\\x22ds\\x22:\\x22\\x22,\\x22ffql\\x22:\\x22en\\x22,\\x22fl\\x22:true,\\x22host\\x22:\\x22google.ca\\x22,\\x22isbh\\x22:28,\\x22jsonp\\x22:true,\\x22msgs\\x22:{\\x22cibl\\x22:\\x22Clear Search\\x22,\\x22dym\\x22:\\x22Did you mean:\\x22,\\x22lcky\\x22:\\x22I\\\\u0026#39;m Feeling Lucky\\x22,\\x22lml\\x22:\\x22Learn more\\x22,\\x22oskt\\x22:\\x22Input tools\\x22,\\x22psrc\\x22:\\x22This search was removed from your \\\\u003Ca href\\x3d\\\\\\x22/history\\\\\\x22\\\\u003EWeb History\\\\u003C/a\\\\u003E\\x22,\\x22psrl\\x22:\\x22Remove\\x22,\\x22sbit\\x22:\\x22Search by image\\x22,\\x22srch\\x22:\\x22Google Search\\x22},\\x22ovr\\x22:{},\\x22pq\\x22:\\x22\\x22,\\x22refpd\\x22:true,\\x22rfs\\x22:[],\\x22sbas\\x22:\\x220 3px 8px 0 rgba(0,0,0,0.2),0 0 0 1px rgba(0,0,0,0.08)\\x22,\\x22sbpl\\x22:16,\\x22sbpr\\x22:16,\\x22scd\\x22:10,\\x22stok\\x22:\\x22Jnyq0PfvKXqNQLTU6INHiDOUtCA\\x22,\\x22uhde\\x22:false}}';google.pmc=JSON.parse(pmc);})();</script> </body>"
      ]
     },
     "execution_count": 10,
     "metadata": {},
     "output_type": "execute_result"
    }
   ],
   "source": [
    "soup.body"
   ]
  },
  {
   "cell_type": "code",
   "execution_count": null,
   "id": "ba816ae6",
   "metadata": {},
   "outputs": [],
   "source": []
  }
 ],
 "metadata": {
  "kernelspec": {
   "display_name": "Python 3",
   "language": "python",
   "name": "python3"
  },
  "language_info": {
   "codemirror_mode": {
    "name": "ipython",
    "version": 3
   },
   "file_extension": ".py",
   "mimetype": "text/x-python",
   "name": "python",
   "nbconvert_exporter": "python",
   "pygments_lexer": "ipython3",
   "version": "3.8.8"
  }
 },
 "nbformat": 4,
 "nbformat_minor": 5
}
